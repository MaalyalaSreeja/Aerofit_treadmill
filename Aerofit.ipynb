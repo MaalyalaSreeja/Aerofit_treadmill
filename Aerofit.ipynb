{
 "cells": [
  {
   "cell_type": "markdown",
   "id": "22fc6186-4459-4ea5-a45f-3658e8f6c247",
   "metadata": {},
   "source": [
    "# Aerofit - Descriptive Statistics and Probability"
   ]
  },
  {
   "cell_type": "markdown",
   "id": "577a4664-bceb-41df-a417-cf59e959cfe5",
   "metadata": {},
   "source": [
    "#### Importing the required libraries "
   ]
  },
  {
   "cell_type": "code",
   "execution_count": 1,
   "id": "748e533c-4d30-433b-a911-96561712ab92",
   "metadata": {},
   "outputs": [],
   "source": [
    "import numpy as np\n",
    "import pandas as pd\n",
    "import seaborn as sns\n",
    "import matplotlib.pyplot as plt"
   ]
  },
  {
   "cell_type": "markdown",
   "id": "56a4444d-deab-4f6c-8d51-26eaa700c3fc",
   "metadata": {},
   "source": [
    "#### Importing the dataset"
   ]
  },
  {
   "cell_type": "code",
   "execution_count": 2,
   "id": "abbbff0f-caba-4170-a8cf-3179be51f151",
   "metadata": {},
   "outputs": [],
   "source": [
    "df = pd.read_csv('aerofit_treadmill.txt')"
   ]
  },
  {
   "cell_type": "code",
   "execution_count": 3,
   "id": "52722c01-a917-4a66-aa8d-a435db651f17",
   "metadata": {},
   "outputs": [
    {
     "data": {
      "text/html": [
       "<div>\n",
       "<style scoped>\n",
       "    .dataframe tbody tr th:only-of-type {\n",
       "        vertical-align: middle;\n",
       "    }\n",
       "\n",
       "    .dataframe tbody tr th {\n",
       "        vertical-align: top;\n",
       "    }\n",
       "\n",
       "    .dataframe thead th {\n",
       "        text-align: right;\n",
       "    }\n",
       "</style>\n",
       "<table border=\"1\" class=\"dataframe\">\n",
       "  <thead>\n",
       "    <tr style=\"text-align: right;\">\n",
       "      <th></th>\n",
       "      <th>Product</th>\n",
       "      <th>Age</th>\n",
       "      <th>Gender</th>\n",
       "      <th>Education</th>\n",
       "      <th>MaritalStatus</th>\n",
       "      <th>Usage</th>\n",
       "      <th>Fitness</th>\n",
       "      <th>Income</th>\n",
       "      <th>Miles</th>\n",
       "    </tr>\n",
       "  </thead>\n",
       "  <tbody>\n",
       "    <tr>\n",
       "      <th>0</th>\n",
       "      <td>KP281</td>\n",
       "      <td>18</td>\n",
       "      <td>Male</td>\n",
       "      <td>14</td>\n",
       "      <td>Single</td>\n",
       "      <td>3</td>\n",
       "      <td>4</td>\n",
       "      <td>29562</td>\n",
       "      <td>112</td>\n",
       "    </tr>\n",
       "    <tr>\n",
       "      <th>1</th>\n",
       "      <td>KP281</td>\n",
       "      <td>19</td>\n",
       "      <td>Male</td>\n",
       "      <td>15</td>\n",
       "      <td>Single</td>\n",
       "      <td>2</td>\n",
       "      <td>3</td>\n",
       "      <td>31836</td>\n",
       "      <td>75</td>\n",
       "    </tr>\n",
       "    <tr>\n",
       "      <th>2</th>\n",
       "      <td>KP281</td>\n",
       "      <td>19</td>\n",
       "      <td>Female</td>\n",
       "      <td>14</td>\n",
       "      <td>Partnered</td>\n",
       "      <td>4</td>\n",
       "      <td>3</td>\n",
       "      <td>30699</td>\n",
       "      <td>66</td>\n",
       "    </tr>\n",
       "    <tr>\n",
       "      <th>3</th>\n",
       "      <td>KP281</td>\n",
       "      <td>19</td>\n",
       "      <td>Male</td>\n",
       "      <td>12</td>\n",
       "      <td>Single</td>\n",
       "      <td>3</td>\n",
       "      <td>3</td>\n",
       "      <td>32973</td>\n",
       "      <td>85</td>\n",
       "    </tr>\n",
       "    <tr>\n",
       "      <th>4</th>\n",
       "      <td>KP281</td>\n",
       "      <td>20</td>\n",
       "      <td>Male</td>\n",
       "      <td>13</td>\n",
       "      <td>Partnered</td>\n",
       "      <td>4</td>\n",
       "      <td>2</td>\n",
       "      <td>35247</td>\n",
       "      <td>47</td>\n",
       "    </tr>\n",
       "  </tbody>\n",
       "</table>\n",
       "</div>"
      ],
      "text/plain": [
       "  Product  Age  Gender  Education MaritalStatus  Usage  Fitness  Income  Miles\n",
       "0   KP281   18    Male         14        Single      3        4   29562    112\n",
       "1   KP281   19    Male         15        Single      2        3   31836     75\n",
       "2   KP281   19  Female         14     Partnered      4        3   30699     66\n",
       "3   KP281   19    Male         12        Single      3        3   32973     85\n",
       "4   KP281   20    Male         13     Partnered      4        2   35247     47"
      ]
     },
     "execution_count": 3,
     "metadata": {},
     "output_type": "execute_result"
    }
   ],
   "source": [
    "df.head()"
   ]
  },
  {
   "cell_type": "markdown",
   "id": "1c4c39fd-fc86-4585-8bc9-80f84f5020f1",
   "metadata": {},
   "source": [
    "### Checking the structure & characteristics of the dataset"
   ]
  },
  {
   "cell_type": "code",
   "execution_count": 4,
   "id": "96faec7a-0946-4a42-8690-efb0fd02f20c",
   "metadata": {},
   "outputs": [
    {
     "data": {
      "text/plain": [
       "180"
      ]
     },
     "execution_count": 4,
     "metadata": {},
     "output_type": "execute_result"
    }
   ],
   "source": [
    "#length of data\n",
    "len(df)"
   ]
  },
  {
   "cell_type": "code",
   "execution_count": 5,
   "id": "64cac75d-8904-4f6e-81b3-a6f99764ea43",
   "metadata": {},
   "outputs": [
    {
     "data": {
      "text/plain": [
       "(180, 9)"
      ]
     },
     "execution_count": 5,
     "metadata": {},
     "output_type": "execute_result"
    }
   ],
   "source": [
    "df.shape"
   ]
  },
  {
   "cell_type": "code",
   "execution_count": 6,
   "id": "3c681b75-5d5a-46f3-a005-71e984d09b19",
   "metadata": {},
   "outputs": [
    {
     "name": "stdout",
     "output_type": "stream",
     "text": [
      "<class 'pandas.core.frame.DataFrame'>\n",
      "RangeIndex: 180 entries, 0 to 179\n",
      "Data columns (total 9 columns):\n",
      " #   Column         Non-Null Count  Dtype \n",
      "---  ------         --------------  ----- \n",
      " 0   Product        180 non-null    object\n",
      " 1   Age            180 non-null    int64 \n",
      " 2   Gender         180 non-null    object\n",
      " 3   Education      180 non-null    int64 \n",
      " 4   MaritalStatus  180 non-null    object\n",
      " 5   Usage          180 non-null    int64 \n",
      " 6   Fitness        180 non-null    int64 \n",
      " 7   Income         180 non-null    int64 \n",
      " 8   Miles          180 non-null    int64 \n",
      "dtypes: int64(6), object(3)\n",
      "memory usage: 12.8+ KB\n"
     ]
    }
   ],
   "source": [
    "df.info()"
   ]
  },
  {
   "cell_type": "code",
   "execution_count": 7,
   "id": "783e9098-481e-4291-a873-a530a8ebbac1",
   "metadata": {},
   "outputs": [
    {
     "data": {
      "text/plain": [
       "Product          0\n",
       "Age              0\n",
       "Gender           0\n",
       "Education        0\n",
       "MaritalStatus    0\n",
       "Usage            0\n",
       "Fitness          0\n",
       "Income           0\n",
       "Miles            0\n",
       "dtype: int64"
      ]
     },
     "execution_count": 7,
     "metadata": {},
     "output_type": "execute_result"
    }
   ],
   "source": [
    "df.isna().sum() # Checking for the missing values"
   ]
  },
  {
   "cell_type": "code",
   "execution_count": 8,
   "id": "c7630cbc-67df-4ac7-9bbb-71703bba075a",
   "metadata": {},
   "outputs": [
    {
     "data": {
      "text/plain": [
       "Index(['Product', 'Age', 'Gender', 'Education', 'MaritalStatus', 'Usage',\n",
       "       'Fitness', 'Income', 'Miles'],\n",
       "      dtype='object')"
      ]
     },
     "execution_count": 8,
     "metadata": {},
     "output_type": "execute_result"
    }
   ],
   "source": [
    "df.columns"
   ]
  },
  {
   "cell_type": "code",
   "execution_count": 9,
   "id": "fc1be219-997c-4f8a-ad3d-974afd0c7330",
   "metadata": {},
   "outputs": [
    {
     "data": {
      "text/plain": [
       "Product          object\n",
       "Age               int64\n",
       "Gender           object\n",
       "Education         int64\n",
       "MaritalStatus    object\n",
       "Usage             int64\n",
       "Fitness           int64\n",
       "Income            int64\n",
       "Miles             int64\n",
       "dtype: object"
      ]
     },
     "execution_count": 9,
     "metadata": {},
     "output_type": "execute_result"
    }
   ],
   "source": [
    "#checking dtypes\n",
    "df.dtypes"
   ]
  },
  {
   "cell_type": "code",
   "execution_count": 10,
   "id": "bbe2a50d-34fe-41ee-b2bb-241a484d193d",
   "metadata": {},
   "outputs": [
    {
     "data": {
      "text/plain": [
       "array(['KP281', 'KP481', 'KP781'], dtype=object)"
      ]
     },
     "execution_count": 10,
     "metadata": {},
     "output_type": "execute_result"
    }
   ],
   "source": [
    "df.Product.unique()"
   ]
  },
  {
   "cell_type": "code",
   "execution_count": 11,
   "id": "2a8f1104-8254-45f1-8fc4-1e8f5ba95d16",
   "metadata": {},
   "outputs": [
    {
     "data": {
      "text/plain": [
       "array([14, 15, 12, 13, 16, 18, 20, 21], dtype=int64)"
      ]
     },
     "execution_count": 11,
     "metadata": {},
     "output_type": "execute_result"
    }
   ],
   "source": [
    "df.Education.unique() \n",
    "# creating a new categorical column based on existing column i.e. Education"
   ]
  },
  {
   "cell_type": "code",
   "execution_count": 12,
   "id": "fdf3d850-0f47-406a-814d-89df5411cd94",
   "metadata": {},
   "outputs": [
    {
     "data": {
      "text/html": [
       "<div>\n",
       "<style scoped>\n",
       "    .dataframe tbody tr th:only-of-type {\n",
       "        vertical-align: middle;\n",
       "    }\n",
       "\n",
       "    .dataframe tbody tr th {\n",
       "        vertical-align: top;\n",
       "    }\n",
       "\n",
       "    .dataframe thead th {\n",
       "        text-align: right;\n",
       "    }\n",
       "</style>\n",
       "<table border=\"1\" class=\"dataframe\">\n",
       "  <thead>\n",
       "    <tr style=\"text-align: right;\">\n",
       "      <th></th>\n",
       "      <th>Product</th>\n",
       "      <th>Age</th>\n",
       "      <th>Gender</th>\n",
       "      <th>Education</th>\n",
       "      <th>MaritalStatus</th>\n",
       "      <th>Usage</th>\n",
       "      <th>Fitness</th>\n",
       "      <th>Income</th>\n",
       "      <th>Miles</th>\n",
       "      <th>Education_category</th>\n",
       "    </tr>\n",
       "  </thead>\n",
       "  <tbody>\n",
       "    <tr>\n",
       "      <th>0</th>\n",
       "      <td>KP281</td>\n",
       "      <td>18</td>\n",
       "      <td>Male</td>\n",
       "      <td>14</td>\n",
       "      <td>Single</td>\n",
       "      <td>3</td>\n",
       "      <td>4</td>\n",
       "      <td>29562</td>\n",
       "      <td>112</td>\n",
       "      <td>Bachelor</td>\n",
       "    </tr>\n",
       "    <tr>\n",
       "      <th>1</th>\n",
       "      <td>KP281</td>\n",
       "      <td>19</td>\n",
       "      <td>Male</td>\n",
       "      <td>15</td>\n",
       "      <td>Single</td>\n",
       "      <td>2</td>\n",
       "      <td>3</td>\n",
       "      <td>31836</td>\n",
       "      <td>75</td>\n",
       "      <td>Bachelor</td>\n",
       "    </tr>\n",
       "    <tr>\n",
       "      <th>2</th>\n",
       "      <td>KP281</td>\n",
       "      <td>19</td>\n",
       "      <td>Female</td>\n",
       "      <td>14</td>\n",
       "      <td>Partnered</td>\n",
       "      <td>4</td>\n",
       "      <td>3</td>\n",
       "      <td>30699</td>\n",
       "      <td>66</td>\n",
       "      <td>Bachelor</td>\n",
       "    </tr>\n",
       "    <tr>\n",
       "      <th>3</th>\n",
       "      <td>KP281</td>\n",
       "      <td>19</td>\n",
       "      <td>Male</td>\n",
       "      <td>12</td>\n",
       "      <td>Single</td>\n",
       "      <td>3</td>\n",
       "      <td>3</td>\n",
       "      <td>32973</td>\n",
       "      <td>85</td>\n",
       "      <td>High school</td>\n",
       "    </tr>\n",
       "    <tr>\n",
       "      <th>4</th>\n",
       "      <td>KP281</td>\n",
       "      <td>20</td>\n",
       "      <td>Male</td>\n",
       "      <td>13</td>\n",
       "      <td>Partnered</td>\n",
       "      <td>4</td>\n",
       "      <td>2</td>\n",
       "      <td>35247</td>\n",
       "      <td>47</td>\n",
       "      <td>High school</td>\n",
       "    </tr>\n",
       "  </tbody>\n",
       "</table>\n",
       "</div>"
      ],
      "text/plain": [
       "  Product  Age  Gender  Education MaritalStatus  Usage  Fitness  Income  \\\n",
       "0   KP281   18    Male         14        Single      3        4   29562   \n",
       "1   KP281   19    Male         15        Single      2        3   31836   \n",
       "2   KP281   19  Female         14     Partnered      4        3   30699   \n",
       "3   KP281   19    Male         12        Single      3        3   32973   \n",
       "4   KP281   20    Male         13     Partnered      4        2   35247   \n",
       "\n",
       "   Miles Education_category  \n",
       "0    112           Bachelor  \n",
       "1     75           Bachelor  \n",
       "2     66           Bachelor  \n",
       "3     85        High school  \n",
       "4     47        High school  "
      ]
     },
     "execution_count": 12,
     "metadata": {},
     "output_type": "execute_result"
    }
   ],
   "source": [
    "bins = [11, 13, 17, 22]\n",
    "labels = [\"High school\", \"Bachelor\", \"Master\"]\n",
    "df[\"Education_category\"] = pd.cut(df['Education'], bins = bins, labels = labels)\n",
    "df.head()"
   ]
  },
  {
   "cell_type": "code",
   "execution_count": 13,
   "id": "60f87790-398a-4ce5-a23e-d3b6092dad13",
   "metadata": {},
   "outputs": [
    {
     "data": {
      "text/plain": [
       "Product                 object\n",
       "Age                      int64\n",
       "Gender                  object\n",
       "Education                int64\n",
       "MaritalStatus           object\n",
       "Usage                    int64\n",
       "Fitness                  int64\n",
       "Income                   int64\n",
       "Miles                    int64\n",
       "Education_category    category\n",
       "dtype: object"
      ]
     },
     "execution_count": 13,
     "metadata": {},
     "output_type": "execute_result"
    }
   ],
   "source": [
    "df.dtypes"
   ]
  },
  {
   "cell_type": "markdown",
   "id": "f27ff9ab-4793-44ee-83de-29d26eb71c4a",
   "metadata": {},
   "source": [
    "### Detecting Outliers"
   ]
  },
  {
   "cell_type": "code",
   "execution_count": 14,
   "id": "dd50b65a-80af-4bb1-b9b5-66bf2a9b0f86",
   "metadata": {},
   "outputs": [
    {
     "data": {
      "text/plain": [
       "count    180.000000\n",
       "mean     103.194444\n",
       "std       51.863605\n",
       "min       21.000000\n",
       "25%       66.000000\n",
       "50%       94.000000\n",
       "75%      114.750000\n",
       "max      360.000000\n",
       "Name: Miles, dtype: float64"
      ]
     },
     "execution_count": 14,
     "metadata": {},
     "output_type": "execute_result"
    }
   ],
   "source": [
    "df['Miles'].describe()"
   ]
  },
  {
   "cell_type": "code",
   "execution_count": 15,
   "id": "659b7b7b-dac8-42cc-854f-ed3de3c4d64d",
   "metadata": {},
   "outputs": [
    {
     "data": {
      "text/plain": [
       "<Axes: xlabel='Miles'>"
      ]
     },
     "execution_count": 15,
     "metadata": {},
     "output_type": "execute_result"
    },
    {
     "data": {
      "image/png": "[encoded data removed]",
      "text/plain": [
       "<Figure size 640x480 with 1 Axes>"
      ]
     },
     "metadata": {},
     "output_type": "display_data"
    }
   ],
   "source": [
    "sns.boxplot(data = df['Miles'], orient = \"h\")"
   ]
  },
  {
   "cell_type": "code",
   "execution_count": 16,
   "id": "9c7c8f26-81fc-4677-9d89-f2be98d8e160",
   "metadata": {},
   "outputs": [
    {
     "data": {
      "text/plain": [
       "<Axes: xlabel='Age'>"
      ]
     },
     "execution_count": 16,
     "metadata": {},
     "output_type": "execute_result"
    },
    {
     "data": {
      "image/png": "[encoded data removed]",
      "text/plain": [
       "<Figure size 640x480 with 1 Axes>"
      ]
     },
     "metadata": {},
     "output_type": "display_data"
    }
   ],
   "source": [
    "sns.boxplot(data = df['Age'], orient = \"h\")"
   ]
  },
  {
   "cell_type": "code",
   "execution_count": 17,
   "id": "1fd446ed-bcdd-4863-a590-3cad904f08d8",
   "metadata": {},
   "outputs": [
    {
     "data": {
      "text/plain": [
       "<Axes: xlabel='Usage'>"
      ]
     },
     "execution_count": 17,
     "metadata": {},
     "output_type": "execute_result"
    },
    {
     "data": {
      "image/png": "[encoded data removed]",
      "text/plain": [
       "<Figure size 640x480 with 1 Axes>"
      ]
     },
     "metadata": {},
     "output_type": "display_data"
    }
   ],
   "source": [
    "sns.boxplot(data = df['Usage'], orient = \"h\")"
   ]
  },
  {
   "cell_type": "code",
   "execution_count": 18,
   "id": "6abfcab8-24c5-4238-a3ac-62a57b568a7e",
   "metadata": {},
   "outputs": [
    {
     "data": {
      "text/plain": [
       "<Axes: xlabel='Fitness'>"
      ]
     },
     "execution_count": 18,
     "metadata": {},
     "output_type": "execute_result"
    },
    {
     "data": {
      "image/png": "[encoded data removed]",
      "text/plain": [
       "<Figure size 640x480 with 1 Axes>"
      ]
     },
     "metadata": {},
     "output_type": "display_data"
    }
   ],
   "source": [
    "sns.boxplot(data = df['Fitness'], orient = \"h\")"
   ]
  },
  {
   "cell_type": "code",
   "execution_count": 19,
   "id": "f7f9a316-88a4-467d-b25b-7c91749a1fc7",
   "metadata": {},
   "outputs": [
    {
     "data": {
      "text/plain": [
       "count       180.000000\n",
       "mean      53719.577778\n",
       "std       16506.684226\n",
       "min       29562.000000\n",
       "25%       44058.750000\n",
       "50%       50596.500000\n",
       "75%       58668.000000\n",
       "max      104581.000000\n",
       "Name: Income, dtype: float64"
      ]
     },
     "execution_count": 19,
     "metadata": {},
     "output_type": "execute_result"
    }
   ],
   "source": [
    "df['Income'].describe()"
   ]
  },
  {
   "cell_type": "code",
   "execution_count": 20,
   "id": "2e4712c7-8811-4dff-9fc6-bea293f7504f",
   "metadata": {},
   "outputs": [
    {
     "data": {
      "text/plain": [
       "<Axes: xlabel='Income'>"
      ]
     },
     "execution_count": 20,
     "metadata": {},
     "output_type": "execute_result"
    },
    {
     "data": {
      "image/png": "[encoded data removed]",
      "text/plain": [
       "<Figure size 640x480 with 1 Axes>"
      ]
     },
     "metadata": {},
     "output_type": "display_data"
    }
   ],
   "source": [
    "sns.boxplot(data = df['Income'], orient = \"h\")"
   ]
  },
  {
   "cell_type": "markdown",
   "id": "0779bdd3-01a3-4cc4-b96d-459b1d827105",
   "metadata": {},
   "source": [
    "##### Clipiing the data between the 5 percentile and 95 percentile"
   ]
  },
  {
   "cell_type": "code",
   "execution_count": 21,
   "id": "e93c7cd0-f7e5-4495-8831-de5e67ea089a",
   "metadata": {},
   "outputs": [],
   "source": [
    "# creating a dataframe that contains all columns contain numeric data types\n",
    "df_n= df.select_dtypes(include='number')\n",
    "# creating a dataframe that contains all columns contain non numeric or categorical data types\n",
    "df_cat = df.select_dtypes(exclude='number')\n",
    "# Calculateing the 5th and 95th percentiles for each column \n",
    "percentiles = df_n.quantile([0.05, 0.95])\n",
    "# Clip the data between the 5th and 95th percentiles for each column\n",
    "final_df_n = df_n.apply(lambda x: x.clip(percentiles.loc[0.05, x.name], percentiles.loc[0.95, x.name]), axis=0)"
   ]
  },
  {
   "cell_type": "code",
   "execution_count": 22,
   "id": "fee4f0a5-e440-4823-9c10-ae13832a8f79",
   "metadata": {},
   "outputs": [
    {
     "data": {
      "text/plain": [
       "(180, 6)"
      ]
     },
     "execution_count": 22,
     "metadata": {},
     "output_type": "execute_result"
    }
   ],
   "source": [
    "final_df_n.shape"
   ]
  },
  {
   "cell_type": "code",
   "execution_count": 23,
   "id": "2e7a219a-98d3-4b19-8aef-25920da1d876",
   "metadata": {},
   "outputs": [
    {
     "data": {
      "text/plain": [
       "(180, 4)"
      ]
     },
     "execution_count": 23,
     "metadata": {},
     "output_type": "execute_result"
    }
   ],
   "source": [
    "df_cat.shape"
   ]
  },
  {
   "cell_type": "code",
   "execution_count": 24,
   "id": "0d2c1f4f-cb24-448a-80b1-1701e7fd81ef",
   "metadata": {},
   "outputs": [
    {
     "data": {
      "text/plain": [
       "(180, 10)"
      ]
     },
     "execution_count": 24,
     "metadata": {},
     "output_type": "execute_result"
    }
   ],
   "source": [
    "aerofit_df = pd.concat([df_cat, final_df_n], axis=1)\n",
    "aerofit_df.shape"
   ]
  },
  {
   "cell_type": "code",
   "execution_count": 25,
   "id": "f2c06d50-a24e-49e7-8899-aba6350c030f",
   "metadata": {},
   "outputs": [
    {
     "data": {
      "text/html": [
       "<div>\n",
       "<style scoped>\n",
       "    .dataframe tbody tr th:only-of-type {\n",
       "        vertical-align: middle;\n",
       "    }\n",
       "\n",
       "    .dataframe tbody tr th {\n",
       "        vertical-align: top;\n",
       "    }\n",
       "\n",
       "    .dataframe thead th {\n",
       "        text-align: right;\n",
       "    }\n",
       "</style>\n",
       "<table border=\"1\" class=\"dataframe\">\n",
       "  <thead>\n",
       "    <tr style=\"text-align: right;\">\n",
       "      <th></th>\n",
       "      <th>Product</th>\n",
       "      <th>Gender</th>\n",
       "      <th>MaritalStatus</th>\n",
       "      <th>Education_category</th>\n",
       "      <th>Age</th>\n",
       "      <th>Education</th>\n",
       "      <th>Usage</th>\n",
       "      <th>Fitness</th>\n",
       "      <th>Income</th>\n",
       "      <th>Miles</th>\n",
       "    </tr>\n",
       "  </thead>\n",
       "  <tbody>\n",
       "    <tr>\n",
       "      <th>0</th>\n",
       "      <td>KP281</td>\n",
       "      <td>Male</td>\n",
       "      <td>Single</td>\n",
       "      <td>Bachelor</td>\n",
       "      <td>20.0</td>\n",
       "      <td>14</td>\n",
       "      <td>3.0</td>\n",
       "      <td>4</td>\n",
       "      <td>34053.15</td>\n",
       "      <td>112</td>\n",
       "    </tr>\n",
       "    <tr>\n",
       "      <th>1</th>\n",
       "      <td>KP281</td>\n",
       "      <td>Male</td>\n",
       "      <td>Single</td>\n",
       "      <td>Bachelor</td>\n",
       "      <td>20.0</td>\n",
       "      <td>15</td>\n",
       "      <td>2.0</td>\n",
       "      <td>3</td>\n",
       "      <td>34053.15</td>\n",
       "      <td>75</td>\n",
       "    </tr>\n",
       "    <tr>\n",
       "      <th>2</th>\n",
       "      <td>KP281</td>\n",
       "      <td>Female</td>\n",
       "      <td>Partnered</td>\n",
       "      <td>Bachelor</td>\n",
       "      <td>20.0</td>\n",
       "      <td>14</td>\n",
       "      <td>4.0</td>\n",
       "      <td>3</td>\n",
       "      <td>34053.15</td>\n",
       "      <td>66</td>\n",
       "    </tr>\n",
       "    <tr>\n",
       "      <th>3</th>\n",
       "      <td>KP281</td>\n",
       "      <td>Male</td>\n",
       "      <td>Single</td>\n",
       "      <td>High school</td>\n",
       "      <td>20.0</td>\n",
       "      <td>14</td>\n",
       "      <td>3.0</td>\n",
       "      <td>3</td>\n",
       "      <td>34053.15</td>\n",
       "      <td>85</td>\n",
       "    </tr>\n",
       "    <tr>\n",
       "      <th>4</th>\n",
       "      <td>KP281</td>\n",
       "      <td>Male</td>\n",
       "      <td>Partnered</td>\n",
       "      <td>High school</td>\n",
       "      <td>20.0</td>\n",
       "      <td>14</td>\n",
       "      <td>4.0</td>\n",
       "      <td>2</td>\n",
       "      <td>35247.00</td>\n",
       "      <td>47</td>\n",
       "    </tr>\n",
       "  </tbody>\n",
       "</table>\n",
       "</div>"
      ],
      "text/plain": [
       "  Product  Gender MaritalStatus Education_category   Age  Education  Usage  \\\n",
       "0   KP281    Male        Single           Bachelor  20.0         14    3.0   \n",
       "1   KP281    Male        Single           Bachelor  20.0         15    2.0   \n",
       "2   KP281  Female     Partnered           Bachelor  20.0         14    4.0   \n",
       "3   KP281    Male        Single        High school  20.0         14    3.0   \n",
       "4   KP281    Male     Partnered        High school  20.0         14    4.0   \n",
       "\n",
       "   Fitness    Income  Miles  \n",
       "0        4  34053.15    112  \n",
       "1        3  34053.15     75  \n",
       "2        3  34053.15     66  \n",
       "3        3  34053.15     85  \n",
       "4        2  35247.00     47  "
      ]
     },
     "execution_count": 25,
     "metadata": {},
     "output_type": "execute_result"
    }
   ],
   "source": [
    "aerofit_df.head()"
   ]
  },
  {
   "cell_type": "code",
   "execution_count": 26,
   "id": "d8fcdbda-d814-439b-8941-7a7041d383ae",
   "metadata": {},
   "outputs": [],
   "source": [
    "aerofit_df.drop(columns=['Education'], inplace = True)"
   ]
  },
  {
   "cell_type": "code",
   "execution_count": 27,
   "id": "fbbc67f5-cf43-4303-bf63-807e63dc86e2",
   "metadata": {},
   "outputs": [
    {
     "data": {
      "text/html": [
       "<div>\n",
       "<style scoped>\n",
       "    .dataframe tbody tr th:only-of-type {\n",
       "        vertical-align: middle;\n",
       "    }\n",
       "\n",
       "    .dataframe tbody tr th {\n",
       "        vertical-align: top;\n",
       "    }\n",
       "\n",
       "    .dataframe thead th {\n",
       "        text-align: right;\n",
       "    }\n",
       "</style>\n",
       "<table border=\"1\" class=\"dataframe\">\n",
       "  <thead>\n",
       "    <tr style=\"text-align: right;\">\n",
       "      <th></th>\n",
       "      <th>Product</th>\n",
       "      <th>Gender</th>\n",
       "      <th>MaritalStatus</th>\n",
       "      <th>Education_category</th>\n",
       "      <th>Age</th>\n",
       "      <th>Usage</th>\n",
       "      <th>Fitness</th>\n",
       "      <th>Income</th>\n",
       "      <th>Miles</th>\n",
       "    </tr>\n",
       "  </thead>\n",
       "  <tbody>\n",
       "    <tr>\n",
       "      <th>0</th>\n",
       "      <td>KP281</td>\n",
       "      <td>Male</td>\n",
       "      <td>Single</td>\n",
       "      <td>Bachelor</td>\n",
       "      <td>20.00</td>\n",
       "      <td>3.00</td>\n",
       "      <td>4</td>\n",
       "      <td>34053.15</td>\n",
       "      <td>112</td>\n",
       "    </tr>\n",
       "    <tr>\n",
       "      <th>1</th>\n",
       "      <td>KP281</td>\n",
       "      <td>Male</td>\n",
       "      <td>Single</td>\n",
       "      <td>Bachelor</td>\n",
       "      <td>20.00</td>\n",
       "      <td>2.00</td>\n",
       "      <td>3</td>\n",
       "      <td>34053.15</td>\n",
       "      <td>75</td>\n",
       "    </tr>\n",
       "    <tr>\n",
       "      <th>2</th>\n",
       "      <td>KP281</td>\n",
       "      <td>Female</td>\n",
       "      <td>Partnered</td>\n",
       "      <td>Bachelor</td>\n",
       "      <td>20.00</td>\n",
       "      <td>4.00</td>\n",
       "      <td>3</td>\n",
       "      <td>34053.15</td>\n",
       "      <td>66</td>\n",
       "    </tr>\n",
       "    <tr>\n",
       "      <th>3</th>\n",
       "      <td>KP281</td>\n",
       "      <td>Male</td>\n",
       "      <td>Single</td>\n",
       "      <td>High school</td>\n",
       "      <td>20.00</td>\n",
       "      <td>3.00</td>\n",
       "      <td>3</td>\n",
       "      <td>34053.15</td>\n",
       "      <td>85</td>\n",
       "    </tr>\n",
       "    <tr>\n",
       "      <th>4</th>\n",
       "      <td>KP281</td>\n",
       "      <td>Male</td>\n",
       "      <td>Partnered</td>\n",
       "      <td>High school</td>\n",
       "      <td>20.00</td>\n",
       "      <td>4.00</td>\n",
       "      <td>2</td>\n",
       "      <td>35247.00</td>\n",
       "      <td>47</td>\n",
       "    </tr>\n",
       "    <tr>\n",
       "      <th>...</th>\n",
       "      <td>...</td>\n",
       "      <td>...</td>\n",
       "      <td>...</td>\n",
       "      <td>...</td>\n",
       "      <td>...</td>\n",
       "      <td>...</td>\n",
       "      <td>...</td>\n",
       "      <td>...</td>\n",
       "      <td>...</td>\n",
       "    </tr>\n",
       "    <tr>\n",
       "      <th>175</th>\n",
       "      <td>KP781</td>\n",
       "      <td>Male</td>\n",
       "      <td>Single</td>\n",
       "      <td>Master</td>\n",
       "      <td>40.00</td>\n",
       "      <td>5.05</td>\n",
       "      <td>5</td>\n",
       "      <td>83416.00</td>\n",
       "      <td>200</td>\n",
       "    </tr>\n",
       "    <tr>\n",
       "      <th>176</th>\n",
       "      <td>KP781</td>\n",
       "      <td>Male</td>\n",
       "      <td>Single</td>\n",
       "      <td>Master</td>\n",
       "      <td>42.00</td>\n",
       "      <td>5.00</td>\n",
       "      <td>4</td>\n",
       "      <td>89641.00</td>\n",
       "      <td>200</td>\n",
       "    </tr>\n",
       "    <tr>\n",
       "      <th>177</th>\n",
       "      <td>KP781</td>\n",
       "      <td>Male</td>\n",
       "      <td>Single</td>\n",
       "      <td>Bachelor</td>\n",
       "      <td>43.05</td>\n",
       "      <td>5.00</td>\n",
       "      <td>5</td>\n",
       "      <td>90886.00</td>\n",
       "      <td>160</td>\n",
       "    </tr>\n",
       "    <tr>\n",
       "      <th>178</th>\n",
       "      <td>KP781</td>\n",
       "      <td>Male</td>\n",
       "      <td>Partnered</td>\n",
       "      <td>Master</td>\n",
       "      <td>43.05</td>\n",
       "      <td>4.00</td>\n",
       "      <td>5</td>\n",
       "      <td>90948.25</td>\n",
       "      <td>120</td>\n",
       "    </tr>\n",
       "    <tr>\n",
       "      <th>179</th>\n",
       "      <td>KP781</td>\n",
       "      <td>Male</td>\n",
       "      <td>Partnered</td>\n",
       "      <td>Master</td>\n",
       "      <td>43.05</td>\n",
       "      <td>4.00</td>\n",
       "      <td>5</td>\n",
       "      <td>90948.25</td>\n",
       "      <td>180</td>\n",
       "    </tr>\n",
       "  </tbody>\n",
       "</table>\n",
       "<p>180 rows × 9 columns</p>\n",
       "</div>"
      ],
      "text/plain": [
       "    Product  Gender MaritalStatus Education_category    Age  Usage  Fitness  \\\n",
       "0     KP281    Male        Single           Bachelor  20.00   3.00        4   \n",
       "1     KP281    Male        Single           Bachelor  20.00   2.00        3   \n",
       "2     KP281  Female     Partnered           Bachelor  20.00   4.00        3   \n",
       "3     KP281    Male        Single        High school  20.00   3.00        3   \n",
       "4     KP281    Male     Partnered        High school  20.00   4.00        2   \n",
       "..      ...     ...           ...                ...    ...    ...      ...   \n",
       "175   KP781    Male        Single             Master  40.00   5.05        5   \n",
       "176   KP781    Male        Single             Master  42.00   5.00        4   \n",
       "177   KP781    Male        Single           Bachelor  43.05   5.00        5   \n",
       "178   KP781    Male     Partnered             Master  43.05   4.00        5   \n",
       "179   KP781    Male     Partnered             Master  43.05   4.00        5   \n",
       "\n",
       "       Income  Miles  \n",
       "0    34053.15    112  \n",
       "1    34053.15     75  \n",
       "2    34053.15     66  \n",
       "3    34053.15     85  \n",
       "4    35247.00     47  \n",
       "..        ...    ...  \n",
       "175  83416.00    200  \n",
       "176  89641.00    200  \n",
       "177  90886.00    160  \n",
       "178  90948.25    120  \n",
       "179  90948.25    180  \n",
       "\n",
       "[180 rows x 9 columns]"
      ]
     },
     "execution_count": 27,
     "metadata": {},
     "output_type": "execute_result"
    }
   ],
   "source": [
    "aerofit_df"
   ]
  },
  {
   "cell_type": "markdown",
   "id": "0c801525-ef1d-4618-ab24-cf0117ef8c26",
   "metadata": {},
   "source": [
    "### Features like marital status, Gender, age and miles have any effect on the product purchased"
   ]
  },
  {
   "cell_type": "code",
   "execution_count": 28,
   "id": "0404ef25-d286-4f5e-a581-1faa7d6b0a56",
   "metadata": {},
   "outputs": [
    {
     "data": {
      "text/plain": [
       "array(['KP281', 'KP481', 'KP781'], dtype=object)"
      ]
     },
     "execution_count": 28,
     "metadata": {},
     "output_type": "execute_result"
    }
   ],
   "source": [
    "# products\n",
    "aerofit_df.Product.unique()"
   ]
  },
  {
   "cell_type": "markdown",
   "id": "7509e61f-121b-48d6-9368-4e74a11961f8",
   "metadata": {},
   "source": [
    "#### Count plot between marital status and product purchased"
   ]
  },
  {
   "cell_type": "code",
   "execution_count": 29,
   "id": "0f1fe314-38f4-472b-bbe5-d7da5ceb1c9b",
   "metadata": {},
   "outputs": [
    {
     "data": {
      "image/png": "[encoded data removed]",
      "text/plain": [
       "<Figure size 800x600 with 1 Axes>"
      ]
     },
     "metadata": {},
     "output_type": "display_data"
    }
   ],
   "source": [
    "plt.figure(figsize=(8, 6))\n",
    "sns.countplot(data=aerofit_df, x='Product', hue='MaritalStatus', palette='dark:g')\n",
    "plt.title('Relationship between Product purchased and MaritalStatus')\n",
    "plt.xlabel('Product lable')\n",
    "plt.ylabel('Count')\n",
    "plt.show()"
   ]
  },
  {
   "cell_type": "markdown",
   "id": "e66bb6be-5ab8-40f7-82ce-3e07df70d61a",
   "metadata": {},
   "source": [
    "##### Inference :\n",
    "> Both single and partnered individuals show a preference for the KP281 treadmill compared to other models.\n",
    ">\n",
    "> Partnered individuals are more likely to use or purchase a treadmill than single individuals."
   ]
  },
  {
   "cell_type": "markdown",
   "id": "e7131973-9f64-43d0-bca0-d182f9a18bca",
   "metadata": {},
   "source": [
    "#### Count plot between age and product purchased"
   ]
  },
  {
   "cell_type": "code",
   "execution_count": 30,
   "id": "fd2dcf18-9202-4ed6-9ee1-2c6cd4a44b07",
   "metadata": {},
   "outputs": [
    {
     "data": {
      "image/png": "[encoded data removed]",
      "text/plain": [
       "<Figure size 800x600 with 1 Axes>"
      ]
     },
     "metadata": {},
     "output_type": "display_data"
    }
   ],
   "source": [
    "plt.figure(figsize=(8, 6))\n",
    "sns.countplot(data=aerofit_df, x='Product', hue='Age')\n",
    "plt.title('Relationship between Product purchased and Age')\n",
    "plt.xlabel('Product lable')\n",
    "plt.ylabel('Count')\n",
    "plt.show()"
   ]
  },
  {
   "cell_type": "markdown",
   "id": "f95089a8-7ef9-45b4-8e27-444acf209975",
   "metadata": {},
   "source": [
    "##### Inference :\n",
    "> The age group between 24 to 28 years demonstrates higher usage of treadmills compared to other age groups.\n",
    "> \n",
    "> All persons irrespective of their age, they mostly prefers KP281 treadmill."
   ]
  },
  {
   "cell_type": "markdown",
   "id": "84022cec-5480-4098-ab62-9605b13ccd74",
   "metadata": {},
   "source": [
    "#### Count plot between gender and product purchased"
   ]
  },
  {
   "cell_type": "code",
   "execution_count": 31,
   "id": "8f69a20b-f253-477b-8b53-aad659fb1d37",
   "metadata": {},
   "outputs": [
    {
     "data": {
      "image/png": "[encoded data removed]",
      "text/plain": [
       "<Figure size 800x600 with 1 Axes>"
      ]
     },
     "metadata": {},
     "output_type": "display_data"
    }
   ],
   "source": [
    "plt.figure(figsize=(8, 6))\n",
    "sns.countplot(data=aerofit_df, x='Product', hue='Gender')\n",
    "plt.title('Relationship between Product purchased and Gender')\n",
    "plt.xlabel('Product lable')\n",
    "plt.ylabel('Count')\n",
    "plt.show()"
   ]
  },
  {
   "cell_type": "markdown",
   "id": "fbe34185-7cdb-4da6-b41f-ed2472151709",
   "metadata": {},
   "source": [
    "##### Inference :\n",
    "> Both males and females equally share usage of the KP281 and KP481 treadmills. However, the majority of users for the KP781 treadmill are male"
   ]
  },
  {
   "cell_type": "markdown",
   "id": "96973672-69b2-49e0-ae29-1694a994d400",
   "metadata": {},
   "source": [
    "#### Affect of Age and Miles on product purchased"
   ]
  },
  {
   "cell_type": "code",
   "execution_count": 32,
   "id": "02294568-b482-4860-96aa-1845f07c9d29",
   "metadata": {},
   "outputs": [
    {
     "data": {
      "image/png": "[encoded data removed]",
      "text/plain": [
       "<Figure size 800x600 with 1 Axes>"
      ]
     },
     "metadata": {},
     "output_type": "display_data"
    }
   ],
   "source": [
    "plt.figure(figsize=(8, 6))\n",
    "sns.scatterplot(data=aerofit_df, x='Miles', y='Age', hue='Product', palette='Set1')\n",
    "plt.title('Relationship between Product purchased, Age and Miles')\n",
    "plt.xlabel('Miles')\n",
    "plt.ylabel('Age')\n",
    "plt.legend(title='product')\n",
    "plt.show()"
   ]
  },
  {
   "cell_type": "markdown",
   "id": "14134ebe-f628-4301-897d-00dac49efac1",
   "metadata": {},
   "source": [
    "##### Inference :\n",
    "> The scatter plot indicates that the KP781 treadmill is utilized for running or walking over a large range of approximately more than 140 miles.\n",
    "> \n",
    "> The KP481 and KP281 are utilized for running or walking over a less range (up to 140 miles).\n",
    ">\n",
    "> The sales of the KP781 product are comparatively lower than those of the other two products."
   ]
  },
  {
   "cell_type": "markdown",
   "id": "ab390801-8835-440b-8793-291638628e5c",
   "metadata": {},
   "source": [
    "### Representing the Probability"
   ]
  },
  {
   "cell_type": "markdown",
   "id": "889f84dc-cdb3-4903-a27b-b67db06caa88",
   "metadata": {},
   "source": [
    "#### Marginal probability (what percent of customers have purchased KP281, KP481, or KP781)"
   ]
  },
  {
   "cell_type": "code",
   "execution_count": 33,
   "id": "76e382ab-42d9-498c-8366-510c484d8b27",
   "metadata": {},
   "outputs": [
    {
     "data": {
      "text/plain": [
       "Product\n",
       "KP281    0.444444\n",
       "KP481    0.333333\n",
       "KP781    0.222222\n",
       "Name: proportion, dtype: float64"
      ]
     },
     "execution_count": 33,
     "metadata": {},
     "output_type": "execute_result"
    }
   ],
   "source": [
    "marginal_prob = aerofit_df['Product'].value_counts(normalize=True)\n",
    "marginal_prob"
   ]
  },
  {
   "cell_type": "markdown",
   "id": "71da32f3-abe4-48b3-b162-1ebfb3998d2e",
   "metadata": {},
   "source": [
    "> The probability of purchasing a KP281 treadmill is 0.44.\n",
    ">\n",
    "> The probability of purchasing a KP481 treadmill is 0.33.\n",
    ">\n",
    "> The probability of purchasing a KP781 treadmill is 0.22."
   ]
  },
  {
   "cell_type": "markdown",
   "id": "16958166-eaa7-4e74-a299-876e7b6d2641",
   "metadata": {},
   "source": [
    "#### The probability that the customer buys a product based on each column"
   ]
  },
  {
   "cell_type": "code",
   "execution_count": 34,
   "id": "2d9ef17f-4e9b-453b-b300-2b6f2c422011",
   "metadata": {},
   "outputs": [
    {
     "data": {
      "text/html": [
       "<div>\n",
       "<style scoped>\n",
       "    .dataframe tbody tr th:only-of-type {\n",
       "        vertical-align: middle;\n",
       "    }\n",
       "\n",
       "    .dataframe tbody tr th {\n",
       "        vertical-align: top;\n",
       "    }\n",
       "\n",
       "    .dataframe thead th {\n",
       "        text-align: right;\n",
       "    }\n",
       "</style>\n",
       "<table border=\"1\" class=\"dataframe\">\n",
       "  <thead>\n",
       "    <tr style=\"text-align: right;\">\n",
       "      <th>Gender</th>\n",
       "      <th>Female</th>\n",
       "      <th>Male</th>\n",
       "      <th>All</th>\n",
       "    </tr>\n",
       "    <tr>\n",
       "      <th>Product</th>\n",
       "      <th></th>\n",
       "      <th></th>\n",
       "      <th></th>\n",
       "    </tr>\n",
       "  </thead>\n",
       "  <tbody>\n",
       "    <tr>\n",
       "      <th>KP281</th>\n",
       "      <td>40</td>\n",
       "      <td>40</td>\n",
       "      <td>80</td>\n",
       "    </tr>\n",
       "    <tr>\n",
       "      <th>KP481</th>\n",
       "      <td>29</td>\n",
       "      <td>31</td>\n",
       "      <td>60</td>\n",
       "    </tr>\n",
       "    <tr>\n",
       "      <th>KP781</th>\n",
       "      <td>7</td>\n",
       "      <td>33</td>\n",
       "      <td>40</td>\n",
       "    </tr>\n",
       "    <tr>\n",
       "      <th>All</th>\n",
       "      <td>76</td>\n",
       "      <td>104</td>\n",
       "      <td>180</td>\n",
       "    </tr>\n",
       "  </tbody>\n",
       "</table>\n",
       "</div>"
      ],
      "text/plain": [
       "Gender   Female  Male  All\n",
       "Product                   \n",
       "KP281        40    40   80\n",
       "KP481        29    31   60\n",
       "KP781         7    33   40\n",
       "All          76   104  180"
      ]
     },
     "execution_count": 34,
     "metadata": {},
     "output_type": "execute_result"
    }
   ],
   "source": [
    "# The cross-tab for each combination of product and gender\n",
    "pd.crosstab(index=aerofit_df['Product'],\n",
    "            columns=aerofit_df['Gender'],\n",
    "            margins=True)"
   ]
  },
  {
   "cell_type": "code",
   "execution_count": 35,
   "id": "fe0fb0fe-7f65-4e77-bea6-984beb48ff60",
   "metadata": {},
   "outputs": [
    {
     "data": {
      "text/html": [
       "<div>\n",
       "<style scoped>\n",
       "    .dataframe tbody tr th:only-of-type {\n",
       "        vertical-align: middle;\n",
       "    }\n",
       "\n",
       "    .dataframe tbody tr th {\n",
       "        vertical-align: top;\n",
       "    }\n",
       "\n",
       "    .dataframe thead th {\n",
       "        text-align: right;\n",
       "    }\n",
       "</style>\n",
       "<table border=\"1\" class=\"dataframe\">\n",
       "  <thead>\n",
       "    <tr style=\"text-align: right;\">\n",
       "      <th>Gender</th>\n",
       "      <th>Female</th>\n",
       "      <th>Male</th>\n",
       "      <th>All</th>\n",
       "    </tr>\n",
       "    <tr>\n",
       "      <th>Product</th>\n",
       "      <th></th>\n",
       "      <th></th>\n",
       "      <th></th>\n",
       "    </tr>\n",
       "  </thead>\n",
       "  <tbody>\n",
       "    <tr>\n",
       "      <th>KP281</th>\n",
       "      <td>0.222222</td>\n",
       "      <td>0.222222</td>\n",
       "      <td>0.444444</td>\n",
       "    </tr>\n",
       "    <tr>\n",
       "      <th>KP481</th>\n",
       "      <td>0.161111</td>\n",
       "      <td>0.172222</td>\n",
       "      <td>0.333333</td>\n",
       "    </tr>\n",
       "    <tr>\n",
       "      <th>KP781</th>\n",
       "      <td>0.038889</td>\n",
       "      <td>0.183333</td>\n",
       "      <td>0.222222</td>\n",
       "    </tr>\n",
       "    <tr>\n",
       "      <th>All</th>\n",
       "      <td>0.422222</td>\n",
       "      <td>0.577778</td>\n",
       "      <td>1.000000</td>\n",
       "    </tr>\n",
       "  </tbody>\n",
       "</table>\n",
       "</div>"
      ],
      "text/plain": [
       "Gender     Female      Male       All\n",
       "Product                              \n",
       "KP281    0.222222  0.222222  0.444444\n",
       "KP481    0.161111  0.172222  0.333333\n",
       "KP781    0.038889  0.183333  0.222222\n",
       "All      0.422222  0.577778  1.000000"
      ]
     },
     "execution_count": 35,
     "metadata": {},
     "output_type": "execute_result"
    }
   ],
   "source": [
    "# The cross-tabulation with probabilities\n",
    "pd.crosstab(index=aerofit_df['Product'],\n",
    "            columns=aerofit_df['Gender'],\n",
    "            margins=True, normalize=True)"
   ]
  },
  {
   "cell_type": "markdown",
   "id": "85cedf54-92b6-4d08-851a-cbe0c2b0f284",
   "metadata": {},
   "source": [
    "> For the probability of purchasing the KP281 product, there's a 22.22% chance that the person is female and a 22.22% chance that the person is male. Therefore, collectively, there's a 44.44% chance that the person falls into either of those categories.\n",
    ">\n",
    "> For the probability of purchasing the KP481 product, there's a 16.11% chance that the person is female and a 17.22% chance that the person is male. Therefore, collectively, there's a 33.33% chance that the person falls into either of those categories.\n",
    ">\n",
    "> For the probability of purchasing the KP781 product, there's a 3.88% chance that the person is female and a 18.33% chance that the person is male. Therefore, collectively, there's a 22.22% chance that the person falls into either of those categories.\n",
    ">\n",
    "> The chances of female purchasing a product is 42.22%, chanses of male purchasing a prodcut is 57.77%\n"
   ]
  },
  {
   "cell_type": "code",
   "execution_count": 36,
   "id": "8df1d8ab-af49-44b5-a5ef-3a4e41225d60",
   "metadata": {},
   "outputs": [
    {
     "data": {
      "text/html": [
       "<div>\n",
       "<style scoped>\n",
       "    .dataframe tbody tr th:only-of-type {\n",
       "        vertical-align: middle;\n",
       "    }\n",
       "\n",
       "    .dataframe tbody tr th {\n",
       "        vertical-align: top;\n",
       "    }\n",
       "\n",
       "    .dataframe thead th {\n",
       "        text-align: right;\n",
       "    }\n",
       "</style>\n",
       "<table border=\"1\" class=\"dataframe\">\n",
       "  <thead>\n",
       "    <tr style=\"text-align: right;\">\n",
       "      <th>MaritalStatus</th>\n",
       "      <th>Partnered</th>\n",
       "      <th>Single</th>\n",
       "      <th>All</th>\n",
       "    </tr>\n",
       "    <tr>\n",
       "      <th>Product</th>\n",
       "      <th></th>\n",
       "      <th></th>\n",
       "      <th></th>\n",
       "    </tr>\n",
       "  </thead>\n",
       "  <tbody>\n",
       "    <tr>\n",
       "      <th>KP281</th>\n",
       "      <td>0.266667</td>\n",
       "      <td>0.177778</td>\n",
       "      <td>0.444444</td>\n",
       "    </tr>\n",
       "    <tr>\n",
       "      <th>KP481</th>\n",
       "      <td>0.200000</td>\n",
       "      <td>0.133333</td>\n",
       "      <td>0.333333</td>\n",
       "    </tr>\n",
       "    <tr>\n",
       "      <th>KP781</th>\n",
       "      <td>0.127778</td>\n",
       "      <td>0.094444</td>\n",
       "      <td>0.222222</td>\n",
       "    </tr>\n",
       "    <tr>\n",
       "      <th>All</th>\n",
       "      <td>0.594444</td>\n",
       "      <td>0.405556</td>\n",
       "      <td>1.000000</td>\n",
       "    </tr>\n",
       "  </tbody>\n",
       "</table>\n",
       "</div>"
      ],
      "text/plain": [
       "MaritalStatus  Partnered    Single       All\n",
       "Product                                     \n",
       "KP281           0.266667  0.177778  0.444444\n",
       "KP481           0.200000  0.133333  0.333333\n",
       "KP781           0.127778  0.094444  0.222222\n",
       "All             0.594444  0.405556  1.000000"
      ]
     },
     "execution_count": 36,
     "metadata": {},
     "output_type": "execute_result"
    }
   ],
   "source": [
    "# The probabilities for each combination of product and marital status\n",
    "pd.crosstab(index=aerofit_df['Product'],\n",
    "            columns=aerofit_df['MaritalStatus'],\n",
    "            margins=True, normalize = True)"
   ]
  },
  {
   "cell_type": "markdown",
   "id": "19e17536-544e-4fc0-bfa3-e3dadaf78436",
   "metadata": {},
   "source": [
    "> For the probability of purchasing the KP281 product, there's a 26.66% chance that the person is partnered and a 17.77% chance that the person is single. Therefore, collectively, there's a 44.44% chance that the person falls into either of those categories.\n",
    ">\n",
    "> For the probability of purchasing the KP481 product, there's a 20% chance that the person is partnered and a 13.33% chance that the person is single. Therefore, collectively, there's a 33.33% chance that the person falls into either of those categories.\n",
    ">\n",
    "> For the probability of purchasing the KP781 product, there's a 12.77% chance that the person is partnered and a 9.4% chance that the person is single. Therefore, collectively, there's a 22.22% chance that the person falls into either of those categories\n",
    ">\n",
    "> The chances of partnered person purchasing a product is 59.44%, chanses of single person purchasing a prodcut is 40.55%"
   ]
  },
  {
   "cell_type": "code",
   "execution_count": 37,
   "id": "0a4caed5-f157-4359-92ba-c0bcdcea6d56",
   "metadata": {},
   "outputs": [
    {
     "data": {
      "text/html": [
       "<div>\n",
       "<style scoped>\n",
       "    .dataframe tbody tr th:only-of-type {\n",
       "        vertical-align: middle;\n",
       "    }\n",
       "\n",
       "    .dataframe tbody tr th {\n",
       "        vertical-align: top;\n",
       "    }\n",
       "\n",
       "    .dataframe thead th {\n",
       "        text-align: right;\n",
       "    }\n",
       "</style>\n",
       "<table border=\"1\" class=\"dataframe\">\n",
       "  <thead>\n",
       "    <tr style=\"text-align: right;\">\n",
       "      <th>Education_category</th>\n",
       "      <th>High school</th>\n",
       "      <th>Bachelor</th>\n",
       "      <th>Master</th>\n",
       "      <th>All</th>\n",
       "    </tr>\n",
       "    <tr>\n",
       "      <th>Product</th>\n",
       "      <th></th>\n",
       "      <th></th>\n",
       "      <th></th>\n",
       "      <th></th>\n",
       "    </tr>\n",
       "  </thead>\n",
       "  <tbody>\n",
       "    <tr>\n",
       "      <th>KP281</th>\n",
       "      <td>0.027778</td>\n",
       "      <td>0.405556</td>\n",
       "      <td>0.011111</td>\n",
       "      <td>0.444444</td>\n",
       "    </tr>\n",
       "    <tr>\n",
       "      <th>KP481</th>\n",
       "      <td>0.016667</td>\n",
       "      <td>0.305556</td>\n",
       "      <td>0.011111</td>\n",
       "      <td>0.333333</td>\n",
       "    </tr>\n",
       "    <tr>\n",
       "      <th>KP781</th>\n",
       "      <td>0.000000</td>\n",
       "      <td>0.094444</td>\n",
       "      <td>0.127778</td>\n",
       "      <td>0.222222</td>\n",
       "    </tr>\n",
       "    <tr>\n",
       "      <th>All</th>\n",
       "      <td>0.044444</td>\n",
       "      <td>0.805556</td>\n",
       "      <td>0.150000</td>\n",
       "      <td>1.000000</td>\n",
       "    </tr>\n",
       "  </tbody>\n",
       "</table>\n",
       "</div>"
      ],
      "text/plain": [
       "Education_category  High school  Bachelor    Master       All\n",
       "Product                                                      \n",
       "KP281                  0.027778  0.405556  0.011111  0.444444\n",
       "KP481                  0.016667  0.305556  0.011111  0.333333\n",
       "KP781                  0.000000  0.094444  0.127778  0.222222\n",
       "All                    0.044444  0.805556  0.150000  1.000000"
      ]
     },
     "execution_count": 37,
     "metadata": {},
     "output_type": "execute_result"
    }
   ],
   "source": [
    "# The probabilities for each combination of product and educational category\n",
    "pd.crosstab(index=aerofit_df['Product'],\n",
    "            columns=aerofit_df['Education_category'],\n",
    "            margins=True, normalize = True)"
   ]
  },
  {
   "cell_type": "code",
   "execution_count": 38,
   "id": "de84cd06-dad8-4f09-8f82-9f29c7d46fb2",
   "metadata": {},
   "outputs": [
    {
     "data": {
      "text/plain": [
       "array([20.  , 21.  , 22.  , 23.  , 24.  , 25.  , 26.  , 27.  , 28.  ,\n",
       "       29.  , 30.  , 31.  , 32.  , 33.  , 34.  , 35.  , 36.  , 37.  ,\n",
       "       38.  , 39.  , 40.  , 41.  , 43.  , 43.05, 42.  ])"
      ]
     },
     "execution_count": 38,
     "metadata": {},
     "output_type": "execute_result"
    }
   ],
   "source": [
    "aerofit_df['Age'].unique()"
   ]
  },
  {
   "cell_type": "code",
   "execution_count": 39,
   "id": "da479673-bcaf-428c-b17e-6c4b11301596",
   "metadata": {},
   "outputs": [
    {
     "data": {
      "text/html": [
       "<div>\n",
       "<style scoped>\n",
       "    .dataframe tbody tr th:only-of-type {\n",
       "        vertical-align: middle;\n",
       "    }\n",
       "\n",
       "    .dataframe tbody tr th {\n",
       "        vertical-align: top;\n",
       "    }\n",
       "\n",
       "    .dataframe thead th {\n",
       "        text-align: right;\n",
       "    }\n",
       "</style>\n",
       "<table border=\"1\" class=\"dataframe\">\n",
       "  <thead>\n",
       "    <tr style=\"text-align: right;\">\n",
       "      <th></th>\n",
       "      <th>Product</th>\n",
       "      <th>Gender</th>\n",
       "      <th>MaritalStatus</th>\n",
       "      <th>Education_category</th>\n",
       "      <th>Age</th>\n",
       "      <th>Usage</th>\n",
       "      <th>Fitness</th>\n",
       "      <th>Income</th>\n",
       "      <th>Miles</th>\n",
       "      <th>Age_category</th>\n",
       "    </tr>\n",
       "  </thead>\n",
       "  <tbody>\n",
       "    <tr>\n",
       "      <th>0</th>\n",
       "      <td>KP281</td>\n",
       "      <td>Male</td>\n",
       "      <td>Single</td>\n",
       "      <td>Bachelor</td>\n",
       "      <td>20.0</td>\n",
       "      <td>3.0</td>\n",
       "      <td>4</td>\n",
       "      <td>34053.15</td>\n",
       "      <td>112</td>\n",
       "      <td>Below 30</td>\n",
       "    </tr>\n",
       "    <tr>\n",
       "      <th>1</th>\n",
       "      <td>KP281</td>\n",
       "      <td>Male</td>\n",
       "      <td>Single</td>\n",
       "      <td>Bachelor</td>\n",
       "      <td>20.0</td>\n",
       "      <td>2.0</td>\n",
       "      <td>3</td>\n",
       "      <td>34053.15</td>\n",
       "      <td>75</td>\n",
       "      <td>Below 30</td>\n",
       "    </tr>\n",
       "    <tr>\n",
       "      <th>2</th>\n",
       "      <td>KP281</td>\n",
       "      <td>Female</td>\n",
       "      <td>Partnered</td>\n",
       "      <td>Bachelor</td>\n",
       "      <td>20.0</td>\n",
       "      <td>4.0</td>\n",
       "      <td>3</td>\n",
       "      <td>34053.15</td>\n",
       "      <td>66</td>\n",
       "      <td>Below 30</td>\n",
       "    </tr>\n",
       "    <tr>\n",
       "      <th>3</th>\n",
       "      <td>KP281</td>\n",
       "      <td>Male</td>\n",
       "      <td>Single</td>\n",
       "      <td>High school</td>\n",
       "      <td>20.0</td>\n",
       "      <td>3.0</td>\n",
       "      <td>3</td>\n",
       "      <td>34053.15</td>\n",
       "      <td>85</td>\n",
       "      <td>Below 30</td>\n",
       "    </tr>\n",
       "    <tr>\n",
       "      <th>4</th>\n",
       "      <td>KP281</td>\n",
       "      <td>Male</td>\n",
       "      <td>Partnered</td>\n",
       "      <td>High school</td>\n",
       "      <td>20.0</td>\n",
       "      <td>4.0</td>\n",
       "      <td>2</td>\n",
       "      <td>35247.00</td>\n",
       "      <td>47</td>\n",
       "      <td>Below 30</td>\n",
       "    </tr>\n",
       "  </tbody>\n",
       "</table>\n",
       "</div>"
      ],
      "text/plain": [
       "  Product  Gender MaritalStatus Education_category   Age  Usage  Fitness  \\\n",
       "0   KP281    Male        Single           Bachelor  20.0    3.0        4   \n",
       "1   KP281    Male        Single           Bachelor  20.0    2.0        3   \n",
       "2   KP281  Female     Partnered           Bachelor  20.0    4.0        3   \n",
       "3   KP281    Male        Single        High school  20.0    3.0        3   \n",
       "4   KP281    Male     Partnered        High school  20.0    4.0        2   \n",
       "\n",
       "     Income  Miles Age_category  \n",
       "0  34053.15    112     Below 30  \n",
       "1  34053.15     75     Below 30  \n",
       "2  34053.15     66     Below 30  \n",
       "3  34053.15     85     Below 30  \n",
       "4  35247.00     47     Below 30  "
      ]
     },
     "execution_count": 39,
     "metadata": {},
     "output_type": "execute_result"
    }
   ],
   "source": [
    "bins = [19, 30, 40, 45]\n",
    "labels = [\"Below 30\", \"Below 40\", \"Below 50\"]\n",
    "aerofit_df[\"Age_category\"] = pd.cut(aerofit_df['Age'], bins = bins, labels = labels)\n",
    "aerofit_df.head()\n"
   ]
  },
  {
   "cell_type": "code",
   "execution_count": 40,
   "id": "6155e1e3-191f-414b-a89b-88a447491d29",
   "metadata": {},
   "outputs": [
    {
     "data": {
      "text/html": [
       "<div>\n",
       "<style scoped>\n",
       "    .dataframe tbody tr th:only-of-type {\n",
       "        vertical-align: middle;\n",
       "    }\n",
       "\n",
       "    .dataframe tbody tr th {\n",
       "        vertical-align: top;\n",
       "    }\n",
       "\n",
       "    .dataframe thead th {\n",
       "        text-align: right;\n",
       "    }\n",
       "</style>\n",
       "<table border=\"1\" class=\"dataframe\">\n",
       "  <thead>\n",
       "    <tr style=\"text-align: right;\">\n",
       "      <th>Age_category</th>\n",
       "      <th>Below 30</th>\n",
       "      <th>Below 40</th>\n",
       "      <th>Below 50</th>\n",
       "      <th>All</th>\n",
       "    </tr>\n",
       "    <tr>\n",
       "      <th>Product</th>\n",
       "      <th></th>\n",
       "      <th></th>\n",
       "      <th></th>\n",
       "      <th></th>\n",
       "    </tr>\n",
       "  </thead>\n",
       "  <tbody>\n",
       "    <tr>\n",
       "      <th>KP281</th>\n",
       "      <td>0.305556</td>\n",
       "      <td>0.105556</td>\n",
       "      <td>0.033333</td>\n",
       "      <td>0.444444</td>\n",
       "    </tr>\n",
       "    <tr>\n",
       "      <th>KP481</th>\n",
       "      <td>0.194444</td>\n",
       "      <td>0.127778</td>\n",
       "      <td>0.011111</td>\n",
       "      <td>0.333333</td>\n",
       "    </tr>\n",
       "    <tr>\n",
       "      <th>KP781</th>\n",
       "      <td>0.166667</td>\n",
       "      <td>0.033333</td>\n",
       "      <td>0.022222</td>\n",
       "      <td>0.222222</td>\n",
       "    </tr>\n",
       "    <tr>\n",
       "      <th>All</th>\n",
       "      <td>0.666667</td>\n",
       "      <td>0.266667</td>\n",
       "      <td>0.066667</td>\n",
       "      <td>1.000000</td>\n",
       "    </tr>\n",
       "  </tbody>\n",
       "</table>\n",
       "</div>"
      ],
      "text/plain": [
       "Age_category  Below 30  Below 40  Below 50       All\n",
       "Product                                             \n",
       "KP281         0.305556  0.105556  0.033333  0.444444\n",
       "KP481         0.194444  0.127778  0.011111  0.333333\n",
       "KP781         0.166667  0.033333  0.022222  0.222222\n",
       "All           0.666667  0.266667  0.066667  1.000000"
      ]
     },
     "execution_count": 40,
     "metadata": {},
     "output_type": "execute_result"
    }
   ],
   "source": [
    "# The probabilities for each combination of product and age category\n",
    "pd.crosstab(index=aerofit_df['Product'],\n",
    "            columns=aerofit_df['Age_category'],\n",
    "            margins=True, normalize = True)"
   ]
  },
  {
   "cell_type": "markdown",
   "id": "ba995322-16fd-4f36-92d2-82be5212ff15",
   "metadata": {},
   "source": [
    "> For the KP281 product: There's a 30.56% chance that the person is below 30 years old, a 10.56% chance that they're below 40, and a 3.33% chance that they're below 50. Collectively, there's a 44.44% chance that they fall into any of these age categories.\n",
    ">\n",
    ">For the KP481 product: There's a 19.44% chance that the person is below 30 years old, a 12.78% chance that they're below 40, and a 1.11% chance that they're below 50. Collectively, there's a 33.33% chance that they fall into any of these age categories.\n",
    ">\n",
    "> For the KP781 product: There's a 16.67% chance that the person is below 30 years old, a 3.33% chance that they're below 40, and a 2.22% chance that they're below 50. Collectively, there's a 22.22% chance that they fall into any of these age categories.\n",
    ">\n",
    "> The chances of person with below 30years purchasing a product is 66.66%, chanses of person having age below 40 years purchasing a prodcut is 26.66%, and chances of person having age above between 40 to 49 years is 6.66%"
   ]
  },
  {
   "cell_type": "markdown",
   "id": "eaf42111-4ff7-49bb-9ba9-8b4d712f8be3",
   "metadata": {},
   "source": [
    "#### The conditional probability that an event occurs given that another event has occurred"
   ]
  },
  {
   "cell_type": "code",
   "execution_count": 41,
   "id": "8305a65d-9f50-4282-984a-ab5da1c95b70",
   "metadata": {},
   "outputs": [
    {
     "data": {
      "text/html": [
       "<div>\n",
       "<style scoped>\n",
       "    .dataframe tbody tr th:only-of-type {\n",
       "        vertical-align: middle;\n",
       "    }\n",
       "\n",
       "    .dataframe tbody tr th {\n",
       "        vertical-align: top;\n",
       "    }\n",
       "\n",
       "    .dataframe thead th {\n",
       "        text-align: right;\n",
       "    }\n",
       "</style>\n",
       "<table border=\"1\" class=\"dataframe\">\n",
       "  <thead>\n",
       "    <tr style=\"text-align: right;\">\n",
       "      <th>Gender</th>\n",
       "      <th>Female</th>\n",
       "      <th>Male</th>\n",
       "      <th>All</th>\n",
       "    </tr>\n",
       "    <tr>\n",
       "      <th>Product</th>\n",
       "      <th></th>\n",
       "      <th></th>\n",
       "      <th></th>\n",
       "    </tr>\n",
       "  </thead>\n",
       "  <tbody>\n",
       "    <tr>\n",
       "      <th>KP281</th>\n",
       "      <td>40</td>\n",
       "      <td>40</td>\n",
       "      <td>80</td>\n",
       "    </tr>\n",
       "    <tr>\n",
       "      <th>KP481</th>\n",
       "      <td>29</td>\n",
       "      <td>31</td>\n",
       "      <td>60</td>\n",
       "    </tr>\n",
       "    <tr>\n",
       "      <th>KP781</th>\n",
       "      <td>7</td>\n",
       "      <td>33</td>\n",
       "      <td>40</td>\n",
       "    </tr>\n",
       "    <tr>\n",
       "      <th>All</th>\n",
       "      <td>76</td>\n",
       "      <td>104</td>\n",
       "      <td>180</td>\n",
       "    </tr>\n",
       "  </tbody>\n",
       "</table>\n",
       "</div>"
      ],
      "text/plain": [
       "Gender   Female  Male  All\n",
       "Product                   \n",
       "KP281        40    40   80\n",
       "KP481        29    31   60\n",
       "KP781         7    33   40\n",
       "All          76   104  180"
      ]
     },
     "execution_count": 41,
     "metadata": {},
     "output_type": "execute_result"
    }
   ],
   "source": [
    "# The cross-tab for each combination of product and gender\n",
    "pd.crosstab(index=aerofit_df['Product'],\n",
    "            columns=aerofit_df['Gender'],\n",
    "            margins=True)"
   ]
  },
  {
   "cell_type": "markdown",
   "id": "113394c2-bf3f-4c6d-bbb6-5f09006f245e",
   "metadata": {},
   "source": [
    "The probability of female purchases given that product KP281 has purchased = 40/80 = 0.5,\n",
    "The probability of male purchases given that product KP281 has purchased = 40/80 =0.5,\n",
    "The probability of female purchases given that product KP481 has purchased = 29/60 = 0.48,\n",
    "The probability of male purchases given that product KP481 has purchased = 31/60 = 0.51,\n",
    "The probability of female purchases given that product KP781 has purchased = 7/40 = 0.17,\n",
    "The probability of male purchases given that product KP781 has purchased = 33/40 = 0.82.\n",
    "The below following code will represent these values\n"
   ]
  },
  {
   "cell_type": "code",
   "execution_count": 42,
   "id": "17f811f7-d5fa-40e0-8917-767dc0cfcefb",
   "metadata": {},
   "outputs": [
    {
     "data": {
      "text/html": [
       "<div>\n",
       "<style scoped>\n",
       "    .dataframe tbody tr th:only-of-type {\n",
       "        vertical-align: middle;\n",
       "    }\n",
       "\n",
       "    .dataframe tbody tr th {\n",
       "        vertical-align: top;\n",
       "    }\n",
       "\n",
       "    .dataframe thead th {\n",
       "        text-align: right;\n",
       "    }\n",
       "</style>\n",
       "<table border=\"1\" class=\"dataframe\">\n",
       "  <thead>\n",
       "    <tr style=\"text-align: right;\">\n",
       "      <th>Gender</th>\n",
       "      <th>Female</th>\n",
       "      <th>Male</th>\n",
       "    </tr>\n",
       "    <tr>\n",
       "      <th>Product</th>\n",
       "      <th></th>\n",
       "      <th></th>\n",
       "    </tr>\n",
       "  </thead>\n",
       "  <tbody>\n",
       "    <tr>\n",
       "      <th>KP281</th>\n",
       "      <td>0.500000</td>\n",
       "      <td>0.500000</td>\n",
       "    </tr>\n",
       "    <tr>\n",
       "      <th>KP481</th>\n",
       "      <td>0.483333</td>\n",
       "      <td>0.516667</td>\n",
       "    </tr>\n",
       "    <tr>\n",
       "      <th>KP781</th>\n",
       "      <td>0.175000</td>\n",
       "      <td>0.825000</td>\n",
       "    </tr>\n",
       "    <tr>\n",
       "      <th>All</th>\n",
       "      <td>0.422222</td>\n",
       "      <td>0.577778</td>\n",
       "    </tr>\n",
       "  </tbody>\n",
       "</table>\n",
       "</div>"
      ],
      "text/plain": [
       "Gender     Female      Male\n",
       "Product                    \n",
       "KP281    0.500000  0.500000\n",
       "KP481    0.483333  0.516667\n",
       "KP781    0.175000  0.825000\n",
       "All      0.422222  0.577778"
      ]
     },
     "execution_count": 42,
     "metadata": {},
     "output_type": "execute_result"
    }
   ],
   "source": [
    "# The cross-tabulation with probabilities given that particular product has purchased\n",
    "pd.crosstab(index=aerofit_df['Product'],\n",
    "            columns=aerofit_df['Gender'],\n",
    "            margins=True, normalize='index')"
   ]
  },
  {
   "cell_type": "markdown",
   "id": "c212f1c8-50bb-4a2a-94fb-687a99f82165",
   "metadata": {},
   "source": [
    "> For product KP281, the gender distribution is evenly split, with 50% female and 50% male users.\n",
    "> \n",
    "> For product KP481, there are slightly more male users (51.67%) compared to female users (48.33%).\n",
    "> \n",
    "> For product KP781, there's a significant difference, with only 17.5% female users and 82.5% male users.\n",
    "> \n",
    "> Overall, across all products, the user base is predominantly male, with 57.78% male users compared to 42.22% female users.\n",
    "\n",
    "\n",
    "\n"
   ]
  },
  {
   "cell_type": "code",
   "execution_count": 43,
   "id": "d494f34b-ea26-4895-8e2b-b80be8b66f5f",
   "metadata": {},
   "outputs": [
    {
     "data": {
      "text/html": [
       "<div>\n",
       "<style scoped>\n",
       "    .dataframe tbody tr th:only-of-type {\n",
       "        vertical-align: middle;\n",
       "    }\n",
       "\n",
       "    .dataframe tbody tr th {\n",
       "        vertical-align: top;\n",
       "    }\n",
       "\n",
       "    .dataframe thead th {\n",
       "        text-align: right;\n",
       "    }\n",
       "</style>\n",
       "<table border=\"1\" class=\"dataframe\">\n",
       "  <thead>\n",
       "    <tr style=\"text-align: right;\">\n",
       "      <th>Gender</th>\n",
       "      <th>Female</th>\n",
       "      <th>Male</th>\n",
       "      <th>All</th>\n",
       "    </tr>\n",
       "    <tr>\n",
       "      <th>Product</th>\n",
       "      <th></th>\n",
       "      <th></th>\n",
       "      <th></th>\n",
       "    </tr>\n",
       "  </thead>\n",
       "  <tbody>\n",
       "    <tr>\n",
       "      <th>KP281</th>\n",
       "      <td>40</td>\n",
       "      <td>40</td>\n",
       "      <td>80</td>\n",
       "    </tr>\n",
       "    <tr>\n",
       "      <th>KP481</th>\n",
       "      <td>29</td>\n",
       "      <td>31</td>\n",
       "      <td>60</td>\n",
       "    </tr>\n",
       "    <tr>\n",
       "      <th>KP781</th>\n",
       "      <td>7</td>\n",
       "      <td>33</td>\n",
       "      <td>40</td>\n",
       "    </tr>\n",
       "    <tr>\n",
       "      <th>All</th>\n",
       "      <td>76</td>\n",
       "      <td>104</td>\n",
       "      <td>180</td>\n",
       "    </tr>\n",
       "  </tbody>\n",
       "</table>\n",
       "</div>"
      ],
      "text/plain": [
       "Gender   Female  Male  All\n",
       "Product                   \n",
       "KP281        40    40   80\n",
       "KP481        29    31   60\n",
       "KP781         7    33   40\n",
       "All          76   104  180"
      ]
     },
     "execution_count": 43,
     "metadata": {},
     "output_type": "execute_result"
    }
   ],
   "source": [
    "# The cross-tab for each combination of product and gender\n",
    "pd.crosstab(index=aerofit_df['Product'],\n",
    "            columns=aerofit_df['Gender'],\n",
    "            margins=True)"
   ]
  },
  {
   "cell_type": "markdown",
   "id": "fbf4750c-22b1-4b3c-bdee-d77d0d6acc89",
   "metadata": {},
   "source": [
    "The probability of product KP281 purchases given that female has purchased = 40/76 = 0.52,\n",
    "The probability of product KP281  purchases given that male has purchased = 40/104 =0.38,\n",
    "The probability of product KP481 purchases given that female has purchased = 29/76 = 0.38,\n",
    "The probability of product KP481 purchases given that male has purchased = 31/104 = 0.29,\n",
    "The probability of product KP781 purchases given that female has purchased = 7/76 = 0.09,\n",
    "The probability of male purchases given that product KP781 has purchased = 33/104 = 0.31.\n",
    "The below following code will represent these values"
   ]
  },
  {
   "cell_type": "code",
   "execution_count": 44,
   "id": "b5c02c1e-b8c9-42a1-b32a-9e7dd184c369",
   "metadata": {},
   "outputs": [
    {
     "data": {
      "text/html": [
       "<div>\n",
       "<style scoped>\n",
       "    .dataframe tbody tr th:only-of-type {\n",
       "        vertical-align: middle;\n",
       "    }\n",
       "\n",
       "    .dataframe tbody tr th {\n",
       "        vertical-align: top;\n",
       "    }\n",
       "\n",
       "    .dataframe thead th {\n",
       "        text-align: right;\n",
       "    }\n",
       "</style>\n",
       "<table border=\"1\" class=\"dataframe\">\n",
       "  <thead>\n",
       "    <tr style=\"text-align: right;\">\n",
       "      <th>Product</th>\n",
       "      <th>KP281</th>\n",
       "      <th>KP481</th>\n",
       "      <th>KP781</th>\n",
       "    </tr>\n",
       "    <tr>\n",
       "      <th>Gender</th>\n",
       "      <th></th>\n",
       "      <th></th>\n",
       "      <th></th>\n",
       "    </tr>\n",
       "  </thead>\n",
       "  <tbody>\n",
       "    <tr>\n",
       "      <th>Female</th>\n",
       "      <td>0.526316</td>\n",
       "      <td>0.381579</td>\n",
       "      <td>0.092105</td>\n",
       "    </tr>\n",
       "    <tr>\n",
       "      <th>Male</th>\n",
       "      <td>0.384615</td>\n",
       "      <td>0.298077</td>\n",
       "      <td>0.317308</td>\n",
       "    </tr>\n",
       "    <tr>\n",
       "      <th>All</th>\n",
       "      <td>0.444444</td>\n",
       "      <td>0.333333</td>\n",
       "      <td>0.222222</td>\n",
       "    </tr>\n",
       "  </tbody>\n",
       "</table>\n",
       "</div>"
      ],
      "text/plain": [
       "Product     KP281     KP481     KP781\n",
       "Gender                               \n",
       "Female   0.526316  0.381579  0.092105\n",
       "Male     0.384615  0.298077  0.317308\n",
       "All      0.444444  0.333333  0.222222"
      ]
     },
     "execution_count": 44,
     "metadata": {},
     "output_type": "execute_result"
    }
   ],
   "source": [
    "# The cross-tabulation with probabilities given that particular Gender has purchased\n",
    "pd.crosstab(index=aerofit_df['Gender'],\n",
    "            columns=aerofit_df['Product'],\n",
    "            margins=True, normalize='index')"
   ]
  },
  {
   "cell_type": "markdown",
   "id": "1047edaa-c1a8-45c2-89f1-e2d9af38f25b",
   "metadata": {},
   "source": [
    "> For product KP281, 52.63% of users are female, and 38.46% are male.\n",
    ">\n",
    "> For product KP481, 38.16% of users are female, and 29.81% are male.\n",
    ">\n",
    "> For product KP781, there's a significant difference in gender distribution, with only 9.21% female users and 31.73% male users.\n",
    ">\n",
    "> The females (52.63%) and males(38.4%) most preferable treadmill is KP281."
   ]
  },
  {
   "cell_type": "code",
   "execution_count": 45,
   "id": "3474910f-2faa-4d19-9187-f2f7e6b766eb",
   "metadata": {},
   "outputs": [
    {
     "data": {
      "text/html": [
       "<div>\n",
       "<style scoped>\n",
       "    .dataframe tbody tr th:only-of-type {\n",
       "        vertical-align: middle;\n",
       "    }\n",
       "\n",
       "    .dataframe tbody tr th {\n",
       "        vertical-align: top;\n",
       "    }\n",
       "\n",
       "    .dataframe thead th {\n",
       "        text-align: right;\n",
       "    }\n",
       "</style>\n",
       "<table border=\"1\" class=\"dataframe\">\n",
       "  <thead>\n",
       "    <tr style=\"text-align: right;\">\n",
       "      <th>MaritalStatus</th>\n",
       "      <th>Partnered</th>\n",
       "      <th>Single</th>\n",
       "    </tr>\n",
       "    <tr>\n",
       "      <th>Product</th>\n",
       "      <th></th>\n",
       "      <th></th>\n",
       "    </tr>\n",
       "  </thead>\n",
       "  <tbody>\n",
       "    <tr>\n",
       "      <th>KP281</th>\n",
       "      <td>0.600000</td>\n",
       "      <td>0.400000</td>\n",
       "    </tr>\n",
       "    <tr>\n",
       "      <th>KP481</th>\n",
       "      <td>0.600000</td>\n",
       "      <td>0.400000</td>\n",
       "    </tr>\n",
       "    <tr>\n",
       "      <th>KP781</th>\n",
       "      <td>0.575000</td>\n",
       "      <td>0.425000</td>\n",
       "    </tr>\n",
       "    <tr>\n",
       "      <th>All</th>\n",
       "      <td>0.594444</td>\n",
       "      <td>0.405556</td>\n",
       "    </tr>\n",
       "  </tbody>\n",
       "</table>\n",
       "</div>"
      ],
      "text/plain": [
       "MaritalStatus  Partnered    Single\n",
       "Product                           \n",
       "KP281           0.600000  0.400000\n",
       "KP481           0.600000  0.400000\n",
       "KP781           0.575000  0.425000\n",
       "All             0.594444  0.405556"
      ]
     },
     "execution_count": 45,
     "metadata": {},
     "output_type": "execute_result"
    }
   ],
   "source": [
    "# The cross-tabulation with probabilities given that the particular product has purchased\n",
    "pd.crosstab(index=aerofit_df['Product'],\n",
    "            columns=aerofit_df['MaritalStatus'],\n",
    "            margins=True, normalize = 'index')"
   ]
  },
  {
   "cell_type": "markdown",
   "id": "b6e5096e-65d9-4abc-bce0-29dfda5a0feb",
   "metadata": {},
   "source": [
    "> For the KP281 product: There's a 60% chance that the person is partnered and a 40% chance that they're single.\n",
    ">\n",
    "> For the KP481 product:There's a 60% chance that the person is partnered and a 40% chance that they're single.\n",
    ">\n",
    "> For the KP781 product: There's a 57.5% chance that the person is partnered and a 42.5% chance that they're single.\n",
    "These probabilities are based on the provided data.\n",
    "\n",
    "> The likelihood of purchasing a treadmill is higher for individuals in relationships compared to those who are single.\n",
    "\n"
   ]
  },
  {
   "cell_type": "code",
   "execution_count": 46,
   "id": "4486b8c0-b8ee-4b9a-b9f3-cfc82afc3dec",
   "metadata": {},
   "outputs": [
    {
     "data": {
      "text/html": [
       "<div>\n",
       "<style scoped>\n",
       "    .dataframe tbody tr th:only-of-type {\n",
       "        vertical-align: middle;\n",
       "    }\n",
       "\n",
       "    .dataframe tbody tr th {\n",
       "        vertical-align: top;\n",
       "    }\n",
       "\n",
       "    .dataframe thead th {\n",
       "        text-align: right;\n",
       "    }\n",
       "</style>\n",
       "<table border=\"1\" class=\"dataframe\">\n",
       "  <thead>\n",
       "    <tr style=\"text-align: right;\">\n",
       "      <th>Product</th>\n",
       "      <th>KP281</th>\n",
       "      <th>KP481</th>\n",
       "      <th>KP781</th>\n",
       "    </tr>\n",
       "    <tr>\n",
       "      <th>MaritalStatus</th>\n",
       "      <th></th>\n",
       "      <th></th>\n",
       "      <th></th>\n",
       "    </tr>\n",
       "  </thead>\n",
       "  <tbody>\n",
       "    <tr>\n",
       "      <th>Partnered</th>\n",
       "      <td>0.448598</td>\n",
       "      <td>0.336449</td>\n",
       "      <td>0.214953</td>\n",
       "    </tr>\n",
       "    <tr>\n",
       "      <th>Single</th>\n",
       "      <td>0.438356</td>\n",
       "      <td>0.328767</td>\n",
       "      <td>0.232877</td>\n",
       "    </tr>\n",
       "    <tr>\n",
       "      <th>All</th>\n",
       "      <td>0.444444</td>\n",
       "      <td>0.333333</td>\n",
       "      <td>0.222222</td>\n",
       "    </tr>\n",
       "  </tbody>\n",
       "</table>\n",
       "</div>"
      ],
      "text/plain": [
       "Product           KP281     KP481     KP781\n",
       "MaritalStatus                              \n",
       "Partnered      0.448598  0.336449  0.214953\n",
       "Single         0.438356  0.328767  0.232877\n",
       "All            0.444444  0.333333  0.222222"
      ]
     },
     "execution_count": 46,
     "metadata": {},
     "output_type": "execute_result"
    }
   ],
   "source": [
    "# The cross-tabulation with probabilities given that the person with particular maritalstatus\n",
    "pd.crosstab(index=aerofit_df['MaritalStatus'],\n",
    "            columns=aerofit_df['Product'],\n",
    "            margins=True, normalize = 'index')"
   ]
  },
  {
   "cell_type": "markdown",
   "id": "53a2e77d-5791-44af-af5c-89169e2f7b07",
   "metadata": {},
   "source": [
    "> For product KP281, 44.86% of partnered individuals and 43.84% of single individuals use it.\n",
    ">\n",
    "> For product KP481, 33.64% of partnered individuals and 32.88% of single individuals use it.\n",
    ">\n",
    "> For product KP781, 21.50% of partnered individuals and 23.29% of single individuals use it.\n",
    ">\n",
    "> Partnered and single individuvals uses more KP281 treadmill than rest two treadmills."
   ]
  },
  {
   "cell_type": "code",
   "execution_count": 47,
   "id": "4caa24a9-8510-42c0-bff3-fd56a2e7d8d2",
   "metadata": {},
   "outputs": [
    {
     "data": {
      "text/html": [
       "<div>\n",
       "<style scoped>\n",
       "    .dataframe tbody tr th:only-of-type {\n",
       "        vertical-align: middle;\n",
       "    }\n",
       "\n",
       "    .dataframe tbody tr th {\n",
       "        vertical-align: top;\n",
       "    }\n",
       "\n",
       "    .dataframe thead th {\n",
       "        text-align: right;\n",
       "    }\n",
       "</style>\n",
       "<table border=\"1\" class=\"dataframe\">\n",
       "  <thead>\n",
       "    <tr style=\"text-align: right;\">\n",
       "      <th>Education_category</th>\n",
       "      <th>High school</th>\n",
       "      <th>Bachelor</th>\n",
       "      <th>Master</th>\n",
       "    </tr>\n",
       "    <tr>\n",
       "      <th>Product</th>\n",
       "      <th></th>\n",
       "      <th></th>\n",
       "      <th></th>\n",
       "    </tr>\n",
       "  </thead>\n",
       "  <tbody>\n",
       "    <tr>\n",
       "      <th>KP281</th>\n",
       "      <td>0.062500</td>\n",
       "      <td>0.912500</td>\n",
       "      <td>0.025000</td>\n",
       "    </tr>\n",
       "    <tr>\n",
       "      <th>KP481</th>\n",
       "      <td>0.050000</td>\n",
       "      <td>0.916667</td>\n",
       "      <td>0.033333</td>\n",
       "    </tr>\n",
       "    <tr>\n",
       "      <th>KP781</th>\n",
       "      <td>0.000000</td>\n",
       "      <td>0.425000</td>\n",
       "      <td>0.575000</td>\n",
       "    </tr>\n",
       "    <tr>\n",
       "      <th>All</th>\n",
       "      <td>0.044444</td>\n",
       "      <td>0.805556</td>\n",
       "      <td>0.150000</td>\n",
       "    </tr>\n",
       "  </tbody>\n",
       "</table>\n",
       "</div>"
      ],
      "text/plain": [
       "Education_category  High school  Bachelor    Master\n",
       "Product                                            \n",
       "KP281                  0.062500  0.912500  0.025000\n",
       "KP481                  0.050000  0.916667  0.033333\n",
       "KP781                  0.000000  0.425000  0.575000\n",
       "All                    0.044444  0.805556  0.150000"
      ]
     },
     "execution_count": 47,
     "metadata": {},
     "output_type": "execute_result"
    }
   ],
   "source": [
    "# The cross-tabulation with probabilities given that the particular product has purchased\n",
    "pd.crosstab(index=aerofit_df['Product'],\n",
    "            columns=aerofit_df['Education_category'],\n",
    "            margins=True, normalize = 'index')"
   ]
  },
  {
   "cell_type": "markdown",
   "id": "b073a693-c90b-459d-be68-acfc1dbbc0cb",
   "metadata": {},
   "source": [
    "> For product KP281, 6.25% of users have a high school education, 91.25% have a bachelor's degree, and 2.5% have a master's degree.\n",
    ">\n",
    "> For product KP481, 5% of users have a high school education, 91.67% have a bachelor's degree, and 3.33% have a master's degree.\n",
    ">\n",
    "> For product KP781, there are no users with a high school education, 42.5% have a bachelor's degree, and 57.5% have a master's degree.\n",
    ">\n",
    "> Looking at the overall percentages:4.44% of users have a high school education,80.56% have a bachelor's degree and 15% have a master's degree.\n",
    ">\n",
    "> The probability of using KP281 and KP481 is higher for persons with a bachelor's degree, while KP781 is more commonly used by those with a master's degree."
   ]
  },
  {
   "cell_type": "code",
   "execution_count": 48,
   "id": "c6f4bf87-2dba-437f-a40f-db3c443e1fe7",
   "metadata": {},
   "outputs": [
    {
     "data": {
      "text/html": [
       "<div>\n",
       "<style scoped>\n",
       "    .dataframe tbody tr th:only-of-type {\n",
       "        vertical-align: middle;\n",
       "    }\n",
       "\n",
       "    .dataframe tbody tr th {\n",
       "        vertical-align: top;\n",
       "    }\n",
       "\n",
       "    .dataframe thead th {\n",
       "        text-align: right;\n",
       "    }\n",
       "</style>\n",
       "<table border=\"1\" class=\"dataframe\">\n",
       "  <thead>\n",
       "    <tr style=\"text-align: right;\">\n",
       "      <th>Product</th>\n",
       "      <th>KP281</th>\n",
       "      <th>KP481</th>\n",
       "      <th>KP781</th>\n",
       "    </tr>\n",
       "    <tr>\n",
       "      <th>Education_category</th>\n",
       "      <th></th>\n",
       "      <th></th>\n",
       "      <th></th>\n",
       "    </tr>\n",
       "  </thead>\n",
       "  <tbody>\n",
       "    <tr>\n",
       "      <th>High school</th>\n",
       "      <td>0.625000</td>\n",
       "      <td>0.375000</td>\n",
       "      <td>0.000000</td>\n",
       "    </tr>\n",
       "    <tr>\n",
       "      <th>Bachelor</th>\n",
       "      <td>0.503448</td>\n",
       "      <td>0.379310</td>\n",
       "      <td>0.117241</td>\n",
       "    </tr>\n",
       "    <tr>\n",
       "      <th>Master</th>\n",
       "      <td>0.074074</td>\n",
       "      <td>0.074074</td>\n",
       "      <td>0.851852</td>\n",
       "    </tr>\n",
       "    <tr>\n",
       "      <th>All</th>\n",
       "      <td>0.444444</td>\n",
       "      <td>0.333333</td>\n",
       "      <td>0.222222</td>\n",
       "    </tr>\n",
       "  </tbody>\n",
       "</table>\n",
       "</div>"
      ],
      "text/plain": [
       "Product                KP281     KP481     KP781\n",
       "Education_category                              \n",
       "High school         0.625000  0.375000  0.000000\n",
       "Bachelor            0.503448  0.379310  0.117241\n",
       "Master              0.074074  0.074074  0.851852\n",
       "All                 0.444444  0.333333  0.222222"
      ]
     },
     "execution_count": 48,
     "metadata": {},
     "output_type": "execute_result"
    }
   ],
   "source": [
    "# The cross-tabulation with probabilities  given that the person belongs to particular educational category\n",
    "pd.crosstab(index=aerofit_df['Education_category'],\n",
    "            columns=aerofit_df['Product'],\n",
    "            margins=True, normalize = 'index')"
   ]
  },
  {
   "cell_type": "markdown",
   "id": "2e5c9dc5-bc06-43df-af10-4227985550c5",
   "metadata": {},
   "source": [
    "> KP281:Among users with a high school education, 62.5% use KP281.\n",
    "> Among users with a bachelor's degree, 50.34% use KP281.\n",
    "> Among users with a master's degree, 7.41% use KP281.\n",
    "> Overall, 44.44% of all users use KP281.\n",
    "> \n",
    ">KP481:Among users with a high school education, 37.5% use KP481.\n",
    "Among users with a bachelor's degree, 37.93% use KP481.\n",
    "Among users with a master's degree, 7.41% use KP481.\n",
    "Overall, 33.33% of all users use KP481.\n",
    "> \n",
    ">KP781:Among users with a high school education, none use KP781.\n",
    "Among users with a bachelor's degree, 11.72% use KP781.\n",
    "Among users with a master's degree, 85.19% use KP781.\n",
    "Overall, 22.22% of all users use KP781.\n",
    ">\n",
    "> KP281 and KP481 are more commonly used by persons with bachelor's degrees.\n",
    ">\n",
    "> KP781 is predominantly utilized by persons with master's degrees."
   ]
  },
  {
   "cell_type": "code",
   "execution_count": 49,
   "id": "8b88d96b-3a74-4a28-bea0-4e4f4bee87d7",
   "metadata": {},
   "outputs": [
    {
     "data": {
      "text/html": [
       "<div>\n",
       "<style scoped>\n",
       "    .dataframe tbody tr th:only-of-type {\n",
       "        vertical-align: middle;\n",
       "    }\n",
       "\n",
       "    .dataframe tbody tr th {\n",
       "        vertical-align: top;\n",
       "    }\n",
       "\n",
       "    .dataframe thead th {\n",
       "        text-align: right;\n",
       "    }\n",
       "</style>\n",
       "<table border=\"1\" class=\"dataframe\">\n",
       "  <thead>\n",
       "    <tr style=\"text-align: right;\">\n",
       "      <th>Age_category</th>\n",
       "      <th>Below 30</th>\n",
       "      <th>Below 40</th>\n",
       "      <th>Below 50</th>\n",
       "    </tr>\n",
       "    <tr>\n",
       "      <th>Product</th>\n",
       "      <th></th>\n",
       "      <th></th>\n",
       "      <th></th>\n",
       "    </tr>\n",
       "  </thead>\n",
       "  <tbody>\n",
       "    <tr>\n",
       "      <th>KP281</th>\n",
       "      <td>0.687500</td>\n",
       "      <td>0.237500</td>\n",
       "      <td>0.075000</td>\n",
       "    </tr>\n",
       "    <tr>\n",
       "      <th>KP481</th>\n",
       "      <td>0.583333</td>\n",
       "      <td>0.383333</td>\n",
       "      <td>0.033333</td>\n",
       "    </tr>\n",
       "    <tr>\n",
       "      <th>KP781</th>\n",
       "      <td>0.750000</td>\n",
       "      <td>0.150000</td>\n",
       "      <td>0.100000</td>\n",
       "    </tr>\n",
       "    <tr>\n",
       "      <th>All</th>\n",
       "      <td>0.666667</td>\n",
       "      <td>0.266667</td>\n",
       "      <td>0.066667</td>\n",
       "    </tr>\n",
       "  </tbody>\n",
       "</table>\n",
       "</div>"
      ],
      "text/plain": [
       "Age_category  Below 30  Below 40  Below 50\n",
       "Product                                   \n",
       "KP281         0.687500  0.237500  0.075000\n",
       "KP481         0.583333  0.383333  0.033333\n",
       "KP781         0.750000  0.150000  0.100000\n",
       "All           0.666667  0.266667  0.066667"
      ]
     },
     "execution_count": 49,
     "metadata": {},
     "output_type": "execute_result"
    }
   ],
   "source": [
    "# The cross-tabulation with probabilities given that the specific product purchased\n",
    "pd.crosstab(index=aerofit_df['Product'],\n",
    "            columns=aerofit_df['Age_category'],\n",
    "            margins=True, normalize = 'index')"
   ]
  },
  {
   "cell_type": "markdown",
   "id": "01a32121-5fd0-43a6-acf0-ac3fd2e44244",
   "metadata": {},
   "source": [
    "> KP281 is more popular among users below 30 years old.\n",
    ">\n",
    "> KP781 is more evenly distributed across age categories, but it's relatively more popular among users below 30 years old compared to other age groups."
   ]
  },
  {
   "cell_type": "code",
   "execution_count": 50,
   "id": "bbcf2ace-0a98-4470-afc7-9c28667b9e85",
   "metadata": {},
   "outputs": [
    {
     "data": {
      "text/html": [
       "<div>\n",
       "<style scoped>\n",
       "    .dataframe tbody tr th:only-of-type {\n",
       "        vertical-align: middle;\n",
       "    }\n",
       "\n",
       "    .dataframe tbody tr th {\n",
       "        vertical-align: top;\n",
       "    }\n",
       "\n",
       "    .dataframe thead th {\n",
       "        text-align: right;\n",
       "    }\n",
       "</style>\n",
       "<table border=\"1\" class=\"dataframe\">\n",
       "  <thead>\n",
       "    <tr style=\"text-align: right;\">\n",
       "      <th>Product</th>\n",
       "      <th>KP281</th>\n",
       "      <th>KP481</th>\n",
       "      <th>KP781</th>\n",
       "    </tr>\n",
       "    <tr>\n",
       "      <th>Age_category</th>\n",
       "      <th></th>\n",
       "      <th></th>\n",
       "      <th></th>\n",
       "    </tr>\n",
       "  </thead>\n",
       "  <tbody>\n",
       "    <tr>\n",
       "      <th>Below 30</th>\n",
       "      <td>0.458333</td>\n",
       "      <td>0.291667</td>\n",
       "      <td>0.250000</td>\n",
       "    </tr>\n",
       "    <tr>\n",
       "      <th>Below 40</th>\n",
       "      <td>0.395833</td>\n",
       "      <td>0.479167</td>\n",
       "      <td>0.125000</td>\n",
       "    </tr>\n",
       "    <tr>\n",
       "      <th>Below 50</th>\n",
       "      <td>0.500000</td>\n",
       "      <td>0.166667</td>\n",
       "      <td>0.333333</td>\n",
       "    </tr>\n",
       "    <tr>\n",
       "      <th>All</th>\n",
       "      <td>0.444444</td>\n",
       "      <td>0.333333</td>\n",
       "      <td>0.222222</td>\n",
       "    </tr>\n",
       "  </tbody>\n",
       "</table>\n",
       "</div>"
      ],
      "text/plain": [
       "Product          KP281     KP481     KP781\n",
       "Age_category                              \n",
       "Below 30      0.458333  0.291667  0.250000\n",
       "Below 40      0.395833  0.479167  0.125000\n",
       "Below 50      0.500000  0.166667  0.333333\n",
       "All           0.444444  0.333333  0.222222"
      ]
     },
     "execution_count": 50,
     "metadata": {},
     "output_type": "execute_result"
    }
   ],
   "source": [
    "# The cross-tabulation with probabilities given that the person belongs to specific age category\n",
    "pd.crosstab(index=aerofit_df['Age_category'],\n",
    "            columns=aerofit_df['Product'],\n",
    "            margins=True, normalize = 'index')"
   ]
  },
  {
   "cell_type": "markdown",
   "id": "1dffa448-47c0-4692-82a2-af5f78d60f2a",
   "metadata": {},
   "source": [
    "> KP281 is relatively popular among all users.\n",
    ">\n",
    "> KP481 is more popular among users below 40 years old.\n",
    ">\n",
    "> KP781 has a relatively higher usage among users age between 40 to 49 years old compared to other age groups."
   ]
  },
  {
   "cell_type": "markdown",
   "id": "6a901c6e-6d6a-4b33-8964-72301579587d",
   "metadata": {},
   "source": [
    "### Checking the correlation among different factors"
   ]
  },
  {
   "cell_type": "code",
   "execution_count": 51,
   "id": "91796ebd-7acd-42a8-9690-af12377d739f",
   "metadata": {},
   "outputs": [
    {
     "name": "stdout",
     "output_type": "stream",
     "text": [
      "<class 'pandas.core.frame.DataFrame'>\n",
      "RangeIndex: 180 entries, 0 to 179\n",
      "Data columns (total 5 columns):\n",
      " #   Column   Non-Null Count  Dtype  \n",
      "---  ------   --------------  -----  \n",
      " 0   Age      180 non-null    float64\n",
      " 1   Usage    180 non-null    float64\n",
      " 2   Fitness  180 non-null    int64  \n",
      " 3   Income   180 non-null    float64\n",
      " 4   Miles    180 non-null    int64  \n",
      "dtypes: float64(3), int64(2)\n",
      "memory usage: 7.2 KB\n"
     ]
    }
   ],
   "source": [
    "# Creating a new dataframe which has only columns with numeric datatypes, further this can be used to find the correlation between different factors\n",
    "aerofit_v_col = aerofit_df[['Age','Usage', 'Fitness', 'Income', 'Miles']]\n",
    "aerofit_v_df = pd.DataFrame(aerofit_v_col)\n",
    "aerofit_v_df.info()"
   ]
  },
  {
   "cell_type": "code",
   "execution_count": 52,
   "id": "35f10efc-6548-4715-91d3-08ede95bcb42",
   "metadata": {},
   "outputs": [],
   "source": [
    "aerofit_v_df['Fitness'] = aerofit_v_df['Fitness'].astype(float)\n",
    "aerofit_v_df['Miles'] = aerofit_v_df['Miles'].astype(float)"
   ]
  },
  {
   "cell_type": "code",
   "execution_count": 53,
   "id": "6d3f0474-ebfe-417e-9668-94bf07be8d86",
   "metadata": {},
   "outputs": [],
   "source": [
    "# Compute the correlation matrix\n",
    "correlation_matrix = aerofit_v_df.corr()"
   ]
  },
  {
   "cell_type": "code",
   "execution_count": 54,
   "id": "83b3858e-ba98-49b5-9338-00dc63f196c5",
   "metadata": {},
   "outputs": [
    {
     "data": {
      "image/png": "[encoded data removed]",
      "text/plain": [
       "<Figure size 800x600 with 2 Axes>"
      ]
     },
     "metadata": {},
     "output_type": "display_data"
    }
   ],
   "source": [
    "# Visualize the correlation matrix using a heatmap\n",
    "plt.figure(figsize=(8, 6))\n",
    "sns.heatmap(correlation_matrix, annot=True, cmap='jet', fmt=\".2f\")\n",
    "plt.title('Correlation Heatmap')\n",
    "plt.show()"
   ]
  },
  {
   "cell_type": "markdown",
   "id": "580b7568-9e0f-4150-8493-20faa7844627",
   "metadata": {},
   "source": [
    "#### Inference:\n",
    "> A correlation coefficient of 0.83 between miles and fitness indicates a strong positive linear relationship between these two variables.As the expected miles customers are willing to run increases, their fitness levels also tend to increase. When customers expect to run more miles on the product, they tend to have higher fitness levels. This could imply that customers who have higher fitness levels are more likely to run/walk for more miles.\n",
    "> \n",
    "> Correlation between usage and miles is 0.77 that as usage increases, miles tend to increase as well, and vice versa.tThe correlation of 0.66 between fitness and usage indicates that there is a tendency for higher levels of fitness to be associated with higher levels of usage, and vice versa.The correlation does not imply causation. While increased product usage may contribute to improved fitness levels (e.g., using fitness equipment more often leads to better physical health), it's also possible that people with higher fitness levels are more inclined to use certain products or engage in certain activities more frequently.\n",
    ">\n",
    "> A correlation coefficient of 0.55 between income and fitness suggests a moderate positive relationship between the two variables. This means that, on average, as income increases, fitness levels also tend to increase.\n",
    ">\n",
    "> A correlation coefficient of 0.03 between age and miles suggests a very weak or negligible linear relationship between the two variables.It indicates that as one variable (age) increases or decreases, the other variable (miles) doesn't consistently change in any particular direction.Similarly correlation between age and usage is 0.02, it indicates that the age changes, usage does not consistently increase or decrease in any particular direction.\n",
    "\n",
    "\n",
    "\n"
   ]
  },
  {
   "cell_type": "markdown",
   "id": "938f18e4-d28e-4957-8a3d-188602759a1c",
   "metadata": {},
   "source": [
    "### Customer profiling and recommendation"
   ]
  },
  {
   "cell_type": "code",
   "execution_count": 55,
   "id": "264f41d9-e0e4-4b45-8e85-23df2dea94e4",
   "metadata": {},
   "outputs": [
    {
     "data": {
      "text/html": [
       "<div>\n",
       "<style scoped>\n",
       "    .dataframe tbody tr th:only-of-type {\n",
       "        vertical-align: middle;\n",
       "    }\n",
       "\n",
       "    .dataframe tbody tr th {\n",
       "        vertical-align: top;\n",
       "    }\n",
       "\n",
       "    .dataframe thead th {\n",
       "        text-align: right;\n",
       "    }\n",
       "</style>\n",
       "<table border=\"1\" class=\"dataframe\">\n",
       "  <thead>\n",
       "    <tr style=\"text-align: right;\">\n",
       "      <th></th>\n",
       "      <th>Gender</th>\n",
       "      <th>MaritalStatus</th>\n",
       "      <th>Education_category</th>\n",
       "      <th>Age</th>\n",
       "      <th>Usage</th>\n",
       "      <th>Fitness</th>\n",
       "      <th>Income</th>\n",
       "      <th>Miles</th>\n",
       "      <th>Age_category</th>\n",
       "    </tr>\n",
       "    <tr>\n",
       "      <th>Product</th>\n",
       "      <th></th>\n",
       "      <th></th>\n",
       "      <th></th>\n",
       "      <th></th>\n",
       "      <th></th>\n",
       "      <th></th>\n",
       "      <th></th>\n",
       "      <th></th>\n",
       "      <th></th>\n",
       "    </tr>\n",
       "  </thead>\n",
       "  <tbody>\n",
       "    <tr>\n",
       "      <th>KP281</th>\n",
       "      <td>[Female, Male]</td>\n",
       "      <td>Partnered</td>\n",
       "      <td>Bachelor</td>\n",
       "      <td>28.427500</td>\n",
       "      <td>3.087500</td>\n",
       "      <td>2.975000</td>\n",
       "      <td>46584.31125</td>\n",
       "      <td>83.125</td>\n",
       "      <td>Below 30</td>\n",
       "    </tr>\n",
       "    <tr>\n",
       "      <th>KP481</th>\n",
       "      <td>Male</td>\n",
       "      <td>Partnered</td>\n",
       "      <td>Bachelor</td>\n",
       "      <td>28.801667</td>\n",
       "      <td>3.066667</td>\n",
       "      <td>2.916667</td>\n",
       "      <td>49046.60750</td>\n",
       "      <td>88.500</td>\n",
       "      <td>Below 30</td>\n",
       "    </tr>\n",
       "    <tr>\n",
       "      <th>KP781</th>\n",
       "      <td>Male</td>\n",
       "      <td>Partnered</td>\n",
       "      <td>Master</td>\n",
       "      <td>28.828750</td>\n",
       "      <td>4.511250</td>\n",
       "      <td>4.625000</td>\n",
       "      <td>73908.28125</td>\n",
       "      <td>155.900</td>\n",
       "      <td>Below 30</td>\n",
       "    </tr>\n",
       "  </tbody>\n",
       "</table>\n",
       "</div>"
      ],
      "text/plain": [
       "                 Gender MaritalStatus Education_category        Age     Usage  \\\n",
       "Product                                                                         \n",
       "KP281    [Female, Male]     Partnered           Bachelor  28.427500  3.087500   \n",
       "KP481              Male     Partnered           Bachelor  28.801667  3.066667   \n",
       "KP781              Male     Partnered             Master  28.828750  4.511250   \n",
       "\n",
       "          Fitness       Income    Miles Age_category  \n",
       "Product                                               \n",
       "KP281    2.975000  46584.31125   83.125     Below 30  \n",
       "KP481    2.916667  49046.60750   88.500     Below 30  \n",
       "KP781    4.625000  73908.28125  155.900     Below 30  "
      ]
     },
     "execution_count": 55,
     "metadata": {},
     "output_type": "execute_result"
    }
   ],
   "source": [
    "# To profile customers for each product, we can aggregate information based on the product they purchased\n",
    "# Grouping by Product and aggregating statistics\n",
    "product_profiles = aerofit_df.groupby('Product').agg({\n",
    "    'Gender': pd.Series.mode,\n",
    "    'MaritalStatus': pd.Series.mode,\n",
    "    'Education_category': pd.Series.mode,\n",
    "    'Age': 'mean',\n",
    "    'Usage': 'mean',\n",
    "    'Fitness': 'mean',\n",
    "    'Income': 'mean',\n",
    "    'Miles': 'mean',\n",
    "    'Age_category': pd.Series.mode\n",
    "})\n",
    "\n",
    "product_profiles"
   ]
  },
  {
   "cell_type": "markdown",
   "id": "23290d78-992d-4c83-820d-f86f2012ecd3",
   "metadata": {},
   "source": [
    "\n",
    "Each row represents a customer along with their characteristics and the product they purchased.\n",
    "statistics for each product such as the most common gender, marital status, education category, average age, average usage, average fitness level, average income, average expected miles, and the most common age category.\n",
    "\n",
    "For product KP281:\n",
    "\n",
    "Gender: Female, Male (indicating both genders purchase this product);\n",
    "MaritalStatus: Partnered;\n",
    "Education_category: Bachelor;\n",
    "Age: Average age of customers: 28.4275;\n",
    "Usage: Average usage frequency: 3.0875;\n",
    "Fitness: Average fitness level: 2.975;\n",
    "Income: Average income level: $46,584.31;\n",
    "Miles: Average expected miles: 83.125;\n",
    "Age_category: Below 30.\n",
    "\n",
    "For product KP481:\n",
    "\n",
    "Gender: Male;\n",
    "MaritalStatus: Partnered;\n",
    "Education_category: Bachelor;\n",
    "Age: Average age of customers: 28.801667;\n",
    "Usage: Average usage frequency: 3.066667;\n",
    "Fitness: Average fitness level: 2.916667;\n",
    "Income: Average income level: $49,046.61;\n",
    "Miles: Average expected miles: 88.5;\n",
    "Age_category: Below 30.\n",
    "\n",
    "For product KP781:\n",
    "\n",
    "Gender: Male;\n",
    "MaritalStatus: Partnered;\n",
    "Education_category: Master;\n",
    "Age: Average age of customers: 28.82875;\n",
    "Usage: Average usage frequency: 4.51125;\n",
    "Fitness: Average fitness level: 4.625;\n",
    "Income: Average income level: $73,908.28;\n",
    "Miles: Average expected miles: 155.9;\n",
    "Age_category: Below 30."
   ]
  },
  {
   "cell_type": "markdown",
   "id": "b5bd75da-028d-42f4-839f-e69fe1ec7e17",
   "metadata": {},
   "source": [
    "#### Inference and Recommendatios:\n",
    "##### Gender and Marital Status:\n",
    "\n",
    "> Products KP281 seem to appeal to both genders, as they have customers from both genders. However, KP481 and KP781 seems to attract mostly male customers.\n",
    "> All three products have a significant proportion of partnered customers, indicating potential marketing opportunities targeting couples or families.\n",
    "\n",
    "##### Education Category:\n",
    "\n",
    "> The majority of customers for KP281 and KP481 have a Bachelor's degree, while for KP781, customers have higher education levels, with most having a Master's degree.\n",
    "> This suggests that KP781 may be positioned as a premium or advanced product.\n",
    "\n",
    "###### Age Category:\n",
    "\n",
    "> The average age of customers for all products is below 30, indicating a younger target demographic.\n",
    "> Given that the average age falls below 30 and the products are fitness-related, targeting younger demographics with fitness-related content or promotions could be effective.\n",
    "\n",
    "##### Usage and Fitness:\n",
    "\n",
    "> Customers using KP781 have a higher average usage frequency and fitness level compared to the other products. This suggests that KP781 may be more tailored towards serious fitness enthusiasts or athletes.\n",
    "> For KP281 and KP481, focusing on promoting the fitness benefits and encouraging regular usage could help increase customer engagement and loyalty.\n",
    "\n",
    "##### Income:\n",
    "\n",
    "> Customers purchasing KP781 have a significantly higher average income compared to those purchasing KP281 and KP481. This indicates that KP781 may be perceived as a premium product and could command higher prices or offer premium features.\n",
    "> Offering flexible pricing options or installment plans could make KP781 more accessible to customers with lower incomes.\n",
    "\n",
    "##### Expected Miles:\n",
    "\n",
    "> Customers purchasing KP781 expect to run significantly more miles compared to customers of KP281 and KP481. This could indicate that KP781 is marketed towards customers with higher fitness goals or endurance training needs.\n",
    "> Marketing campaigns highlighting the durability and performance of KP781 for long-distance running or endurance training could resonate well with customers.\n"
   ]
  },
  {
   "cell_type": "code",
   "execution_count": null,
   "id": "6a39d1ce-378c-47f4-a6e7-f1c2db7dce42",
   "metadata": {},
   "outputs": [],
   "source": []
  }
 ],
 "metadata": {
  "kernelspec": {
   "display_name": "Python 3 (ipykernel)",
   "language": "python",
   "name": "python3"
  },
  "language_info": {
   "codemirror_mode": {
    "name": "ipython",
    "version": 3
   },
   "file_extension": ".py",
   "mimetype": "text/x-python",
   "name": "python",
   "nbconvert_exporter": "python",
   "pygments_lexer": "ipython3",
   "version": "3.10.0rc2"
  }
 },
 "nbformat": 4,
 "nbformat_minor": 5
}
